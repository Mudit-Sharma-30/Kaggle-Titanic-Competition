{
 "cells": [
  {
   "cell_type": "code",
   "execution_count": 1,
   "id": "c478aa3c",
   "metadata": {
    "_cell_guid": "b1076dfc-b9ad-4769-8c92-a6c4dae69d19",
    "_uuid": "8f2839f25d086af736a60e9eeb907d3b93b6e0e5",
    "execution": {
     "iopub.execute_input": "2022-12-16T02:59:49.568510Z",
     "iopub.status.busy": "2022-12-16T02:59:49.567763Z",
     "iopub.status.idle": "2022-12-16T02:59:50.520237Z",
     "shell.execute_reply": "2022-12-16T02:59:50.518901Z"
    },
    "papermill": {
     "duration": 0.975138,
     "end_time": "2022-12-16T02:59:50.523287",
     "exception": false,
     "start_time": "2022-12-16T02:59:49.548149",
     "status": "completed"
    },
    "tags": []
   },
   "outputs": [
    {
     "name": "stdout",
     "output_type": "stream",
     "text": [
      "/kaggle/input/titanic/train.csv\n",
      "/kaggle/input/titanic/test.csv\n",
      "/kaggle/input/titanic/gender_submission.csv\n"
     ]
    }
   ],
   "source": [
    "# This Python 3 environment comes with many helpful analytics libraries installed\n",
    "# It is defined by the kaggle/python Docker image: https://github.com/kaggle/docker-python\n",
    "# For example, here's several helpful packages to load\n",
    "\n",
    "import numpy as np # linear algebra\n",
    "import pandas as pd # data processing, CSV file I/O (e.g. pd.read_csv)\n",
    "import seaborn as sns\n",
    "import matplotlib.pyplot as plt\n",
    "plt.xkcd()\n",
    "# Input data files are available in the read-only \"../input/\" directory\n",
    "# For example, running this (by clicking run or pressing Shift+Enter) will list all files under the input directory\n",
    "\n",
    "import os\n",
    "for dirname, _, filenames in os.walk('/kaggle/input'):\n",
    "    for filename in filenames:\n",
    "        print(os.path.join(dirname, filename))\n",
    "\n",
    "# You can write up to 20GB to the current directory (/kaggle/working/) that gets preserved as output when you create a version using \"Save & Run All\" \n",
    "# You can also write temporary files to /kaggle/temp/, but they won't be saved outside of the current session"
   ]
  },
  {
   "cell_type": "code",
   "execution_count": 2,
   "id": "f57c7f5b",
   "metadata": {
    "execution": {
     "iopub.execute_input": "2022-12-16T02:59:50.558030Z",
     "iopub.status.busy": "2022-12-16T02:59:50.557596Z",
     "iopub.status.idle": "2022-12-16T02:59:50.587051Z",
     "shell.execute_reply": "2022-12-16T02:59:50.585649Z"
    },
    "papermill": {
     "duration": 0.049881,
     "end_time": "2022-12-16T02:59:50.589833",
     "exception": false,
     "start_time": "2022-12-16T02:59:50.539952",
     "status": "completed"
    },
    "tags": []
   },
   "outputs": [],
   "source": [
    "train_data  = pd.read_csv('/kaggle/input/titanic/train.csv')\n",
    "test_data = pd.read_csv('/kaggle/input/titanic/test.csv')"
   ]
  },
  {
   "cell_type": "markdown",
   "id": "40c156ab",
   "metadata": {
    "papermill": {
     "duration": 0.015755,
     "end_time": "2022-12-16T02:59:50.621970",
     "exception": false,
     "start_time": "2022-12-16T02:59:50.606215",
     "status": "completed"
    },
    "tags": []
   },
   "source": [
    "# Data preprocessing\n"
   ]
  },
  {
   "cell_type": "code",
   "execution_count": 3,
   "id": "aed43331",
   "metadata": {
    "execution": {
     "iopub.execute_input": "2022-12-16T02:59:50.655873Z",
     "iopub.status.busy": "2022-12-16T02:59:50.655455Z",
     "iopub.status.idle": "2022-12-16T02:59:50.679808Z",
     "shell.execute_reply": "2022-12-16T02:59:50.678655Z"
    },
    "papermill": {
     "duration": 0.044166,
     "end_time": "2022-12-16T02:59:50.682263",
     "exception": false,
     "start_time": "2022-12-16T02:59:50.638097",
     "status": "completed"
    },
    "tags": []
   },
   "outputs": [
    {
     "data": {
      "text/html": [
       "<div>\n",
       "<style scoped>\n",
       "    .dataframe tbody tr th:only-of-type {\n",
       "        vertical-align: middle;\n",
       "    }\n",
       "\n",
       "    .dataframe tbody tr th {\n",
       "        vertical-align: top;\n",
       "    }\n",
       "\n",
       "    .dataframe thead th {\n",
       "        text-align: right;\n",
       "    }\n",
       "</style>\n",
       "<table border=\"1\" class=\"dataframe\">\n",
       "  <thead>\n",
       "    <tr style=\"text-align: right;\">\n",
       "      <th></th>\n",
       "      <th>PassengerId</th>\n",
       "      <th>Survived</th>\n",
       "      <th>Pclass</th>\n",
       "      <th>Name</th>\n",
       "      <th>Sex</th>\n",
       "      <th>Age</th>\n",
       "      <th>SibSp</th>\n",
       "      <th>Parch</th>\n",
       "      <th>Ticket</th>\n",
       "      <th>Fare</th>\n",
       "      <th>Cabin</th>\n",
       "      <th>Embarked</th>\n",
       "    </tr>\n",
       "  </thead>\n",
       "  <tbody>\n",
       "    <tr>\n",
       "      <th>0</th>\n",
       "      <td>1</td>\n",
       "      <td>0</td>\n",
       "      <td>3</td>\n",
       "      <td>Braund, Mr. Owen Harris</td>\n",
       "      <td>male</td>\n",
       "      <td>22.0</td>\n",
       "      <td>1</td>\n",
       "      <td>0</td>\n",
       "      <td>A/5 21171</td>\n",
       "      <td>7.2500</td>\n",
       "      <td>NaN</td>\n",
       "      <td>S</td>\n",
       "    </tr>\n",
       "    <tr>\n",
       "      <th>1</th>\n",
       "      <td>2</td>\n",
       "      <td>1</td>\n",
       "      <td>1</td>\n",
       "      <td>Cumings, Mrs. John Bradley (Florence Briggs Th...</td>\n",
       "      <td>female</td>\n",
       "      <td>38.0</td>\n",
       "      <td>1</td>\n",
       "      <td>0</td>\n",
       "      <td>PC 17599</td>\n",
       "      <td>71.2833</td>\n",
       "      <td>C85</td>\n",
       "      <td>C</td>\n",
       "    </tr>\n",
       "    <tr>\n",
       "      <th>2</th>\n",
       "      <td>3</td>\n",
       "      <td>1</td>\n",
       "      <td>3</td>\n",
       "      <td>Heikkinen, Miss. Laina</td>\n",
       "      <td>female</td>\n",
       "      <td>26.0</td>\n",
       "      <td>0</td>\n",
       "      <td>0</td>\n",
       "      <td>STON/O2. 3101282</td>\n",
       "      <td>7.9250</td>\n",
       "      <td>NaN</td>\n",
       "      <td>S</td>\n",
       "    </tr>\n",
       "    <tr>\n",
       "      <th>3</th>\n",
       "      <td>4</td>\n",
       "      <td>1</td>\n",
       "      <td>1</td>\n",
       "      <td>Futrelle, Mrs. Jacques Heath (Lily May Peel)</td>\n",
       "      <td>female</td>\n",
       "      <td>35.0</td>\n",
       "      <td>1</td>\n",
       "      <td>0</td>\n",
       "      <td>113803</td>\n",
       "      <td>53.1000</td>\n",
       "      <td>C123</td>\n",
       "      <td>S</td>\n",
       "    </tr>\n",
       "    <tr>\n",
       "      <th>4</th>\n",
       "      <td>5</td>\n",
       "      <td>0</td>\n",
       "      <td>3</td>\n",
       "      <td>Allen, Mr. William Henry</td>\n",
       "      <td>male</td>\n",
       "      <td>35.0</td>\n",
       "      <td>0</td>\n",
       "      <td>0</td>\n",
       "      <td>373450</td>\n",
       "      <td>8.0500</td>\n",
       "      <td>NaN</td>\n",
       "      <td>S</td>\n",
       "    </tr>\n",
       "  </tbody>\n",
       "</table>\n",
       "</div>"
      ],
      "text/plain": [
       "   PassengerId  Survived  Pclass  \\\n",
       "0            1         0       3   \n",
       "1            2         1       1   \n",
       "2            3         1       3   \n",
       "3            4         1       1   \n",
       "4            5         0       3   \n",
       "\n",
       "                                                Name     Sex   Age  SibSp  \\\n",
       "0                            Braund, Mr. Owen Harris    male  22.0      1   \n",
       "1  Cumings, Mrs. John Bradley (Florence Briggs Th...  female  38.0      1   \n",
       "2                             Heikkinen, Miss. Laina  female  26.0      0   \n",
       "3       Futrelle, Mrs. Jacques Heath (Lily May Peel)  female  35.0      1   \n",
       "4                           Allen, Mr. William Henry    male  35.0      0   \n",
       "\n",
       "   Parch            Ticket     Fare Cabin Embarked  \n",
       "0      0         A/5 21171   7.2500   NaN        S  \n",
       "1      0          PC 17599  71.2833   C85        C  \n",
       "2      0  STON/O2. 3101282   7.9250   NaN        S  \n",
       "3      0            113803  53.1000  C123        S  \n",
       "4      0            373450   8.0500   NaN        S  "
      ]
     },
     "execution_count": 3,
     "metadata": {},
     "output_type": "execute_result"
    }
   ],
   "source": [
    "# visualizing the dataset\n",
    "train_data.head()"
   ]
  },
  {
   "cell_type": "code",
   "execution_count": 4,
   "id": "76b681fc",
   "metadata": {
    "execution": {
     "iopub.execute_input": "2022-12-16T02:59:50.717389Z",
     "iopub.status.busy": "2022-12-16T02:59:50.716966Z",
     "iopub.status.idle": "2022-12-16T02:59:50.724323Z",
     "shell.execute_reply": "2022-12-16T02:59:50.723273Z"
    },
    "papermill": {
     "duration": 0.027529,
     "end_time": "2022-12-16T02:59:50.726697",
     "exception": false,
     "start_time": "2022-12-16T02:59:50.699168",
     "status": "completed"
    },
    "tags": []
   },
   "outputs": [
    {
     "data": {
      "text/plain": [
       "(891, 12)"
      ]
     },
     "execution_count": 4,
     "metadata": {},
     "output_type": "execute_result"
    }
   ],
   "source": [
    "train_data.shape\n"
   ]
  },
  {
   "cell_type": "markdown",
   "id": "2de4b5cc",
   "metadata": {
    "papermill": {
     "duration": 0.016019,
     "end_time": "2022-12-16T02:59:50.759234",
     "exception": false,
     "start_time": "2022-12-16T02:59:50.743215",
     "status": "completed"
    },
    "tags": []
   },
   "source": [
    "### so our dataset have 891 rows and 12 columns "
   ]
  },
  {
   "cell_type": "code",
   "execution_count": 5,
   "id": "0ea28dbf",
   "metadata": {
    "execution": {
     "iopub.execute_input": "2022-12-16T02:59:50.793714Z",
     "iopub.status.busy": "2022-12-16T02:59:50.793281Z",
     "iopub.status.idle": "2022-12-16T02:59:50.800719Z",
     "shell.execute_reply": "2022-12-16T02:59:50.799441Z"
    },
    "papermill": {
     "duration": 0.027393,
     "end_time": "2022-12-16T02:59:50.802932",
     "exception": false,
     "start_time": "2022-12-16T02:59:50.775539",
     "status": "completed"
    },
    "tags": []
   },
   "outputs": [
    {
     "data": {
      "text/plain": [
       "Index(['PassengerId', 'Survived', 'Pclass', 'Name', 'Sex', 'Age', 'SibSp',\n",
       "       'Parch', 'Ticket', 'Fare', 'Cabin', 'Embarked'],\n",
       "      dtype='object')"
      ]
     },
     "execution_count": 5,
     "metadata": {},
     "output_type": "execute_result"
    }
   ],
   "source": [
    "train_data.columns"
   ]
  },
  {
   "cell_type": "code",
   "execution_count": 6,
   "id": "9e2ef76e",
   "metadata": {
    "execution": {
     "iopub.execute_input": "2022-12-16T02:59:50.838418Z",
     "iopub.status.busy": "2022-12-16T02:59:50.837583Z",
     "iopub.status.idle": "2022-12-16T02:59:50.847135Z",
     "shell.execute_reply": "2022-12-16T02:59:50.846300Z"
    },
    "papermill": {
     "duration": 0.029573,
     "end_time": "2022-12-16T02:59:50.849258",
     "exception": false,
     "start_time": "2022-12-16T02:59:50.819685",
     "status": "completed"
    },
    "tags": []
   },
   "outputs": [
    {
     "data": {
      "text/plain": [
       "PassengerId      0\n",
       "Survived         0\n",
       "Pclass           0\n",
       "Name             0\n",
       "Sex              0\n",
       "Age            177\n",
       "SibSp            0\n",
       "Parch            0\n",
       "Ticket           0\n",
       "Fare             0\n",
       "Cabin          687\n",
       "Embarked         2\n",
       "dtype: int64"
      ]
     },
     "execution_count": 6,
     "metadata": {},
     "output_type": "execute_result"
    }
   ],
   "source": [
    "train_data.isnull().sum()"
   ]
  },
  {
   "cell_type": "markdown",
   "id": "7c51fa5a",
   "metadata": {
    "papermill": {
     "duration": 0.016344,
     "end_time": "2022-12-16T02:59:50.882229",
     "exception": false,
     "start_time": "2022-12-16T02:59:50.865885",
     "status": "completed"
    },
    "tags": []
   },
   "source": [
    "##### so there are 177 null entries in age and 687 null entries in cabin whereas only 2 null entries in embarked"
   ]
  },
  {
   "cell_type": "code",
   "execution_count": 7,
   "id": "d4d9a51c",
   "metadata": {
    "execution": {
     "iopub.execute_input": "2022-12-16T02:59:50.917315Z",
     "iopub.status.busy": "2022-12-16T02:59:50.916948Z",
     "iopub.status.idle": "2022-12-16T02:59:50.929544Z",
     "shell.execute_reply": "2022-12-16T02:59:50.928528Z"
    },
    "papermill": {
     "duration": 0.032644,
     "end_time": "2022-12-16T02:59:50.931570",
     "exception": false,
     "start_time": "2022-12-16T02:59:50.898926",
     "status": "completed"
    },
    "tags": []
   },
   "outputs": [
    {
     "data": {
      "text/plain": [
       "male      577\n",
       "female    314\n",
       "Name: Sex, dtype: int64"
      ]
     },
     "execution_count": 7,
     "metadata": {},
     "output_type": "execute_result"
    }
   ],
   "source": [
    "#counting the number of men and women\n",
    "train_data['Sex'].value_counts()"
   ]
  },
  {
   "cell_type": "markdown",
   "id": "e6b7d197",
   "metadata": {
    "papermill": {
     "duration": 0.016757,
     "end_time": "2022-12-16T02:59:50.965099",
     "exception": false,
     "start_time": "2022-12-16T02:59:50.948342",
     "status": "completed"
    },
    "tags": []
   },
   "source": [
    "##### We can clearly see the number of men are more than number of women"
   ]
  },
  {
   "cell_type": "code",
   "execution_count": 8,
   "id": "adf3fe27",
   "metadata": {
    "execution": {
     "iopub.execute_input": "2022-12-16T02:59:51.000513Z",
     "iopub.status.busy": "2022-12-16T02:59:51.000066Z",
     "iopub.status.idle": "2022-12-16T02:59:51.282203Z",
     "shell.execute_reply": "2022-12-16T02:59:51.281097Z"
    },
    "papermill": {
     "duration": 0.302696,
     "end_time": "2022-12-16T02:59:51.284596",
     "exception": false,
     "start_time": "2022-12-16T02:59:50.981900",
     "status": "completed"
    },
    "tags": []
   },
   "outputs": [
    {
     "data": {
      "text/plain": [
       "<AxesSubplot:xlabel='Sex', ylabel='count'>"
      ]
     },
     "execution_count": 8,
     "metadata": {},
     "output_type": "execute_result"
    },
    {
     "data": {
      "image/png": "[encoded data removed]",
      "text/plain": [
       "<Figure size 432x288 with 1 Axes>"
      ]
     },
     "metadata": {},
     "output_type": "display_data"
    }
   ],
   "source": [
    "#make the count plot for sex\n",
    "sns.countplot(x='Sex', data = train_data)"
   ]
  },
  {
   "cell_type": "code",
   "execution_count": 9,
   "id": "90bd9370",
   "metadata": {
    "execution": {
     "iopub.execute_input": "2022-12-16T02:59:51.322397Z",
     "iopub.status.busy": "2022-12-16T02:59:51.322005Z",
     "iopub.status.idle": "2022-12-16T02:59:51.330405Z",
     "shell.execute_reply": "2022-12-16T02:59:51.329385Z"
    },
    "papermill": {
     "duration": 0.029849,
     "end_time": "2022-12-16T02:59:51.332436",
     "exception": false,
     "start_time": "2022-12-16T02:59:51.302587",
     "status": "completed"
    },
    "tags": []
   },
   "outputs": [
    {
     "data": {
      "text/plain": [
       "3    491\n",
       "1    216\n",
       "2    184\n",
       "Name: Pclass, dtype: int64"
      ]
     },
     "execution_count": 9,
     "metadata": {},
     "output_type": "execute_result"
    }
   ],
   "source": [
    "train_data['Pclass'].value_counts()"
   ]
  },
  {
   "cell_type": "code",
   "execution_count": 10,
   "id": "60eaae82",
   "metadata": {
    "execution": {
     "iopub.execute_input": "2022-12-16T02:59:51.369726Z",
     "iopub.status.busy": "2022-12-16T02:59:51.369215Z",
     "iopub.status.idle": "2022-12-16T02:59:51.601565Z",
     "shell.execute_reply": "2022-12-16T02:59:51.600582Z"
    },
    "papermill": {
     "duration": 0.25378,
     "end_time": "2022-12-16T02:59:51.604018",
     "exception": false,
     "start_time": "2022-12-16T02:59:51.350238",
     "status": "completed"
    },
    "tags": []
   },
   "outputs": [
    {
     "data": {
      "text/plain": [
       "<AxesSubplot:xlabel='Pclass', ylabel='count'>"
      ]
     },
     "execution_count": 10,
     "metadata": {},
     "output_type": "execute_result"
    },
    {
     "data": {
      "image/png": "[encoded data removed]",
      "text/plain": [
       "<Figure size 432x288 with 1 Axes>"
      ]
     },
     "metadata": {},
     "output_type": "display_data"
    }
   ],
   "source": [
    "sns.countplot(x='Pclass', data=train_data)"
   ]
  },
  {
   "cell_type": "code",
   "execution_count": 11,
   "id": "793b7abc",
   "metadata": {
    "execution": {
     "iopub.execute_input": "2022-12-16T02:59:51.642249Z",
     "iopub.status.busy": "2022-12-16T02:59:51.641815Z",
     "iopub.status.idle": "2022-12-16T02:59:51.650845Z",
     "shell.execute_reply": "2022-12-16T02:59:51.649657Z"
    },
    "papermill": {
     "duration": 0.030863,
     "end_time": "2022-12-16T02:59:51.653093",
     "exception": false,
     "start_time": "2022-12-16T02:59:51.622230",
     "status": "completed"
    },
    "tags": []
   },
   "outputs": [
    {
     "data": {
      "text/plain": [
       "S    644\n",
       "C    168\n",
       "Q     77\n",
       "Name: Embarked, dtype: int64"
      ]
     },
     "execution_count": 11,
     "metadata": {},
     "output_type": "execute_result"
    }
   ],
   "source": [
    "train_data['Embarked'].value_counts()"
   ]
  },
  {
   "cell_type": "code",
   "execution_count": 12,
   "id": "7f4b70a0",
   "metadata": {
    "execution": {
     "iopub.execute_input": "2022-12-16T02:59:51.691625Z",
     "iopub.status.busy": "2022-12-16T02:59:51.690980Z",
     "iopub.status.idle": "2022-12-16T02:59:51.887295Z",
     "shell.execute_reply": "2022-12-16T02:59:51.886308Z"
    },
    "papermill": {
     "duration": 0.219326,
     "end_time": "2022-12-16T02:59:51.890817",
     "exception": false,
     "start_time": "2022-12-16T02:59:51.671491",
     "status": "completed"
    },
    "tags": []
   },
   "outputs": [
    {
     "data": {
      "text/plain": [
       "<AxesSubplot:xlabel='Embarked', ylabel='count'>"
      ]
     },
     "execution_count": 12,
     "metadata": {},
     "output_type": "execute_result"
    },
    {
     "data": {
      "image/png": "[encoded data removed]",
      "text/plain": [
       "<Figure size 432x288 with 1 Axes>"
      ]
     },
     "metadata": {},
     "output_type": "display_data"
    }
   ],
   "source": [
    "sns.countplot(x='Embarked', data=train_data)"
   ]
  },
  {
   "cell_type": "code",
   "execution_count": 13,
   "id": "aedaa9fe",
   "metadata": {
    "execution": {
     "iopub.execute_input": "2022-12-16T02:59:51.935029Z",
     "iopub.status.busy": "2022-12-16T02:59:51.934169Z",
     "iopub.status.idle": "2022-12-16T02:59:51.943285Z",
     "shell.execute_reply": "2022-12-16T02:59:51.942547Z"
    },
    "papermill": {
     "duration": 0.033145,
     "end_time": "2022-12-16T02:59:51.946504",
     "exception": false,
     "start_time": "2022-12-16T02:59:51.913359",
     "status": "completed"
    },
    "tags": []
   },
   "outputs": [
    {
     "data": {
      "text/plain": [
       "0    608\n",
       "1    209\n",
       "2     28\n",
       "4     18\n",
       "3     16\n",
       "8      7\n",
       "5      5\n",
       "Name: SibSp, dtype: int64"
      ]
     },
     "execution_count": 13,
     "metadata": {},
     "output_type": "execute_result"
    }
   ],
   "source": [
    "train_data['SibSp'].value_counts()"
   ]
  },
  {
   "cell_type": "code",
   "execution_count": 14,
   "id": "03ff8d60",
   "metadata": {
    "execution": {
     "iopub.execute_input": "2022-12-16T02:59:51.995713Z",
     "iopub.status.busy": "2022-12-16T02:59:51.995252Z",
     "iopub.status.idle": "2022-12-16T02:59:52.218400Z",
     "shell.execute_reply": "2022-12-16T02:59:52.217535Z"
    },
    "papermill": {
     "duration": 0.246591,
     "end_time": "2022-12-16T02:59:52.220862",
     "exception": false,
     "start_time": "2022-12-16T02:59:51.974271",
     "status": "completed"
    },
    "tags": []
   },
   "outputs": [
    {
     "data": {
      "text/plain": [
       "<AxesSubplot:xlabel='SibSp', ylabel='count'>"
      ]
     },
     "execution_count": 14,
     "metadata": {},
     "output_type": "execute_result"
    },
    {
     "data": {
      "image/png": "[encoded data removed]",
      "text/plain": [
       "<Figure size 432x288 with 1 Axes>"
      ]
     },
     "metadata": {},
     "output_type": "display_data"
    }
   ],
   "source": [
    "sns.countplot(x='SibSp',data = train_data)"
   ]
  },
  {
   "cell_type": "markdown",
   "id": "256a4c50",
   "metadata": {
    "papermill": {
     "duration": 0.019333,
     "end_time": "2022-12-16T02:59:52.260064",
     "exception": false,
     "start_time": "2022-12-16T02:59:52.240731",
     "status": "completed"
    },
    "tags": []
   },
   "source": [
    "##### this getting not possible to watch for all the values so we can use log function in sns "
   ]
  },
  {
   "cell_type": "code",
   "execution_count": 15,
   "id": "135611ae",
   "metadata": {
    "execution": {
     "iopub.execute_input": "2022-12-16T02:59:52.305122Z",
     "iopub.status.busy": "2022-12-16T02:59:52.303935Z",
     "iopub.status.idle": "2022-12-16T02:59:53.953745Z",
     "shell.execute_reply": "2022-12-16T02:59:53.952456Z"
    },
    "papermill": {
     "duration": 1.676658,
     "end_time": "2022-12-16T02:59:53.956280",
     "exception": false,
     "start_time": "2022-12-16T02:59:52.279622",
     "status": "completed"
    },
    "tags": []
   },
   "outputs": [
    {
     "data": {
      "text/plain": [
       "<AxesSubplot:xlabel='SibSp', ylabel='count'>"
      ]
     },
     "execution_count": 15,
     "metadata": {},
     "output_type": "execute_result"
    },
    {
     "data": {
      "image/png": "[encoded data removed]",
      "text/plain": [
       "<Figure size 432x288 with 1 Axes>"
      ]
     },
     "metadata": {},
     "output_type": "display_data"
    }
   ],
   "source": [
    "sns.countplot(x='SibSp',data = train_data , log = True)"
   ]
  },
  {
   "cell_type": "markdown",
   "id": "2294234a",
   "metadata": {
    "papermill": {
     "duration": 0.021086,
     "end_time": "2022-12-16T02:59:53.997898",
     "exception": false,
     "start_time": "2022-12-16T02:59:53.976812",
     "status": "completed"
    },
    "tags": []
   },
   "source": [
    "## Visulaizing the survival on base of gender"
   ]
  },
  {
   "cell_type": "code",
   "execution_count": 16,
   "id": "f8758eb4",
   "metadata": {
    "execution": {
     "iopub.execute_input": "2022-12-16T02:59:54.040897Z",
     "iopub.status.busy": "2022-12-16T02:59:54.040479Z",
     "iopub.status.idle": "2022-12-16T02:59:54.046785Z",
     "shell.execute_reply": "2022-12-16T02:59:54.045536Z"
    },
    "papermill": {
     "duration": 0.030201,
     "end_time": "2022-12-16T02:59:54.049109",
     "exception": false,
     "start_time": "2022-12-16T02:59:54.018908",
     "status": "completed"
    },
    "tags": []
   },
   "outputs": [],
   "source": [
    "train_data['Died'] = 1 - train_data['Survived']"
   ]
  },
  {
   "cell_type": "code",
   "execution_count": 17,
   "id": "cf6683d5",
   "metadata": {
    "execution": {
     "iopub.execute_input": "2022-12-16T02:59:54.092161Z",
     "iopub.status.busy": "2022-12-16T02:59:54.091200Z",
     "iopub.status.idle": "2022-12-16T02:59:54.349563Z",
     "shell.execute_reply": "2022-12-16T02:59:54.348704Z"
    },
    "papermill": {
     "duration": 0.282466,
     "end_time": "2022-12-16T02:59:54.351904",
     "exception": false,
     "start_time": "2022-12-16T02:59:54.069438",
     "status": "completed"
    },
    "tags": []
   },
   "outputs": [
    {
     "data": {
      "text/plain": [
       "<AxesSubplot:xlabel='Sex'>"
      ]
     },
     "execution_count": 17,
     "metadata": {},
     "output_type": "execute_result"
    },
    {
     "data": {
      "image/png": "[encoded data removed]",
      "text/plain": [
       "<Figure size 720x360 with 1 Axes>"
      ]
     },
     "metadata": {},
     "output_type": "display_data"
    }
   ],
   "source": [
    "train_data.groupby('Sex').agg('sum')[['Survived', 'Died']].plot(kind='bar',\n",
    "                                                           figsize=(10, 5),\n",
    "                                                           stacked=True)"
   ]
  },
  {
   "cell_type": "markdown",
   "id": "897b5786",
   "metadata": {
    "papermill": {
     "duration": 0.021821,
     "end_time": "2022-12-16T02:59:54.394760",
     "exception": false,
     "start_time": "2022-12-16T02:59:54.372939",
     "status": "completed"
    },
    "tags": []
   },
   "source": [
    "##### Can clearly see the women survival chances are much more than man \n"
   ]
  },
  {
   "cell_type": "code",
   "execution_count": 18,
   "id": "c4fe0aed",
   "metadata": {
    "execution": {
     "iopub.execute_input": "2022-12-16T02:59:54.438597Z",
     "iopub.status.busy": "2022-12-16T02:59:54.438219Z",
     "iopub.status.idle": "2022-12-16T02:59:54.731555Z",
     "shell.execute_reply": "2022-12-16T02:59:54.730687Z"
    },
    "papermill": {
     "duration": 0.318349,
     "end_time": "2022-12-16T02:59:54.733937",
     "exception": false,
     "start_time": "2022-12-16T02:59:54.415588",
     "status": "completed"
    },
    "tags": []
   },
   "outputs": [
    {
     "data": {
      "text/plain": [
       "<AxesSubplot:xlabel='Sex'>"
      ]
     },
     "execution_count": 18,
     "metadata": {},
     "output_type": "execute_result"
    },
    {
     "data": {
      "image/png": "[encoded data removed]",
      "text/plain": [
       "<Figure size 720x360 with 1 Axes>"
      ]
     },
     "metadata": {},
     "output_type": "display_data"
    }
   ],
   "source": [
    "# let try to plot the same graph with ratio \n",
    "train_data.groupby('Sex').agg('mean')[['Survived', 'Died']].plot(kind='bar',\n",
    "                                                            figsize=(10, 5),\n",
    "                                                            stacked=True)"
   ]
  },
  {
   "cell_type": "markdown",
   "id": "0600790d",
   "metadata": {
    "papermill": {
     "duration": 0.021618,
     "end_time": "2022-12-16T02:59:54.778270",
     "exception": false,
     "start_time": "2022-12-16T02:59:54.756652",
     "status": "completed"
    },
    "tags": []
   },
   "source": [
    "##### So nearly 80 percent of women got survived whereas only approx 20 percent of men could live more "
   ]
  },
  {
   "cell_type": "markdown",
   "id": "f8ab4016",
   "metadata": {
    "papermill": {
     "duration": 0.021109,
     "end_time": "2022-12-16T02:59:54.820817",
     "exception": false,
     "start_time": "2022-12-16T02:59:54.799708",
     "status": "completed"
    },
    "tags": []
   },
   "source": [
    "#### Now visualiszng on the base of fare"
   ]
  },
  {
   "cell_type": "code",
   "execution_count": 19,
   "id": "98e74085",
   "metadata": {
    "execution": {
     "iopub.execute_input": "2022-12-16T02:59:54.866430Z",
     "iopub.status.busy": "2022-12-16T02:59:54.865777Z",
     "iopub.status.idle": "2022-12-16T02:59:55.606491Z",
     "shell.execute_reply": "2022-12-16T02:59:55.605667Z"
    },
    "papermill": {
     "duration": 0.766155,
     "end_time": "2022-12-16T02:59:55.608809",
     "exception": false,
     "start_time": "2022-12-16T02:59:54.842654",
     "status": "completed"
    },
    "tags": []
   },
   "outputs": [
    {
     "data": {
      "text/plain": [
       "<matplotlib.legend.Legend at 0x7fee670cb190>"
      ]
     },
     "execution_count": 19,
     "metadata": {},
     "output_type": "execute_result"
    },
    {
     "data": {
      "image/png": "[encoded data removed]",
      "text/plain": [
       "<Figure size 720x360 with 1 Axes>"
      ]
     },
     "metadata": {},
     "output_type": "display_data"
    }
   ],
   "source": [
    "figure = plt.figure(figsize=(10, 5))\n",
    "plt.rcdefaults()\n",
    "plt.hist([train_data[train_data['Survived'] == 1]['Fare'], train_data[train_data['Survived'] == 0]['Fare']], \n",
    "         stacked=True, bins = 50, label = ['Survived','Dead'],log = True)\n",
    "plt.xlabel('Fare')\n",
    "plt.ylabel('Number of passengers')\n",
    "plt.legend()"
   ]
  },
  {
   "cell_type": "markdown",
   "id": "e33031e5",
   "metadata": {
    "papermill": {
     "duration": 0.021599,
     "end_time": "2022-12-16T02:59:55.652385",
     "exception": false,
     "start_time": "2022-12-16T02:59:55.630786",
     "status": "completed"
    },
    "tags": []
   },
   "source": [
    "Passengers with cheaper ticket fares are more likely to die. Put differently, passengers with more expensive tickets, and therefore a more important social status, seem to be rescued first"
   ]
  },
  {
   "cell_type": "markdown",
   "id": "708ecd86",
   "metadata": {
    "papermill": {
     "duration": 0.021674,
     "end_time": "2022-12-16T02:59:55.695955",
     "exception": false,
     "start_time": "2022-12-16T02:59:55.674281",
     "status": "completed"
    },
    "tags": []
   },
   "source": [
    "## Feature engineering"
   ]
  },
  {
   "cell_type": "code",
   "execution_count": 20,
   "id": "61de3777",
   "metadata": {
    "execution": {
     "iopub.execute_input": "2022-12-16T02:59:55.741817Z",
     "iopub.status.busy": "2022-12-16T02:59:55.741221Z",
     "iopub.status.idle": "2022-12-16T02:59:55.748664Z",
     "shell.execute_reply": "2022-12-16T02:59:55.747887Z"
    },
    "papermill": {
     "duration": 0.032752,
     "end_time": "2022-12-16T02:59:55.750682",
     "exception": false,
     "start_time": "2022-12-16T02:59:55.717930",
     "status": "completed"
    },
    "tags": []
   },
   "outputs": [
    {
     "data": {
      "text/plain": [
       "0                                Braund, Mr. Owen Harris\n",
       "1      Cumings, Mrs. John Bradley (Florence Briggs Th...\n",
       "2                                 Heikkinen, Miss. Laina\n",
       "3           Futrelle, Mrs. Jacques Heath (Lily May Peel)\n",
       "4                               Allen, Mr. William Henry\n",
       "                             ...                        \n",
       "886                                Montvila, Rev. Juozas\n",
       "887                         Graham, Miss. Margaret Edith\n",
       "888             Johnston, Miss. Catherine Helen \"Carrie\"\n",
       "889                                Behr, Mr. Karl Howell\n",
       "890                                  Dooley, Mr. Patrick\n",
       "Name: Name, Length: 891, dtype: object"
      ]
     },
     "execution_count": 20,
     "metadata": {},
     "output_type": "execute_result"
    }
   ],
   "source": [
    "train_data['Name']"
   ]
  },
  {
   "cell_type": "code",
   "execution_count": 21,
   "id": "5611d7d8",
   "metadata": {
    "execution": {
     "iopub.execute_input": "2022-12-16T02:59:55.796920Z",
     "iopub.status.busy": "2022-12-16T02:59:55.796218Z",
     "iopub.status.idle": "2022-12-16T02:59:55.803781Z",
     "shell.execute_reply": "2022-12-16T02:59:55.802416Z"
    },
    "papermill": {
     "duration": 0.033761,
     "end_time": "2022-12-16T02:59:55.806441",
     "exception": false,
     "start_time": "2022-12-16T02:59:55.772680",
     "status": "completed"
    },
    "tags": []
   },
   "outputs": [
    {
     "name": "stdout",
     "output_type": "stream",
     "text": [
      "{'Jonkheer', 'Ms', 'Lady', 'Mrs', 'Capt', 'Miss', 'Major', 'Mr', 'Sir', 'Master', 'Mlle', 'Don', 'Dr', 'the Countess', 'Rev', 'Mme', 'Col'}\n"
     ]
    }
   ],
   "source": [
    "titles = set()\n",
    "for name in train_data['Name']:\n",
    "    titles.add(name.split(',')[1].split('.')[0].strip())\n",
    "print(titles)"
   ]
  },
  {
   "cell_type": "code",
   "execution_count": 22,
   "id": "06c10e30",
   "metadata": {
    "execution": {
     "iopub.execute_input": "2022-12-16T02:59:55.854003Z",
     "iopub.status.busy": "2022-12-16T02:59:55.853544Z",
     "iopub.status.idle": "2022-12-16T02:59:55.859823Z",
     "shell.execute_reply": "2022-12-16T02:59:55.858613Z"
    },
    "papermill": {
     "duration": 0.033041,
     "end_time": "2022-12-16T02:59:55.861993",
     "exception": false,
     "start_time": "2022-12-16T02:59:55.828952",
     "status": "completed"
    },
    "tags": []
   },
   "outputs": [],
   "source": [
    "Title_Dictionary = {\"Capt\": \"Officer\",\"Col\": \"Officer\",\"Major\": \"Officer\",\"Jonkheer\": \n",
    "                    \"Royalty\",\"Don\": \"Royalty\",\"Sir\" : \"Royalty\",\"Dr\": \"Officer\",\"Rev\"\n",
    "                    : \"Officer\",\"the Countess\":\"Royalty\",\"Mme\": \"Mrs\",\"Mlle\": \"Miss\",\n",
    "                    \"Ms\": \"Mrs\",\"Mr\" : \"Mr\",\"Mrs\" : \"Mrs\",\"Miss\" : \"Miss\",\"Master\" : \n",
    "                    \"Master\",\"Lady\" : \"Royalty\"}"
   ]
  },
  {
   "cell_type": "code",
   "execution_count": 23,
   "id": "2341de84",
   "metadata": {
    "execution": {
     "iopub.execute_input": "2022-12-16T02:59:55.908417Z",
     "iopub.status.busy": "2022-12-16T02:59:55.908021Z",
     "iopub.status.idle": "2022-12-16T02:59:55.929039Z",
     "shell.execute_reply": "2022-12-16T02:59:55.927935Z"
    },
    "papermill": {
     "duration": 0.04723,
     "end_time": "2022-12-16T02:59:55.931419",
     "exception": false,
     "start_time": "2022-12-16T02:59:55.884189",
     "status": "completed"
    },
    "tags": []
   },
   "outputs": [
    {
     "data": {
      "text/html": [
       "<div>\n",
       "<style scoped>\n",
       "    .dataframe tbody tr th:only-of-type {\n",
       "        vertical-align: middle;\n",
       "    }\n",
       "\n",
       "    .dataframe tbody tr th {\n",
       "        vertical-align: top;\n",
       "    }\n",
       "\n",
       "    .dataframe thead th {\n",
       "        text-align: right;\n",
       "    }\n",
       "</style>\n",
       "<table border=\"1\" class=\"dataframe\">\n",
       "  <thead>\n",
       "    <tr style=\"text-align: right;\">\n",
       "      <th></th>\n",
       "      <th>PassengerId</th>\n",
       "      <th>Survived</th>\n",
       "      <th>Pclass</th>\n",
       "      <th>Name</th>\n",
       "      <th>Sex</th>\n",
       "      <th>Age</th>\n",
       "      <th>SibSp</th>\n",
       "      <th>Parch</th>\n",
       "      <th>Ticket</th>\n",
       "      <th>Fare</th>\n",
       "      <th>Cabin</th>\n",
       "      <th>Embarked</th>\n",
       "      <th>Died</th>\n",
       "      <th>Title</th>\n",
       "    </tr>\n",
       "  </thead>\n",
       "  <tbody>\n",
       "    <tr>\n",
       "      <th>0</th>\n",
       "      <td>1</td>\n",
       "      <td>0</td>\n",
       "      <td>3</td>\n",
       "      <td>Braund, Mr. Owen Harris</td>\n",
       "      <td>male</td>\n",
       "      <td>22.0</td>\n",
       "      <td>1</td>\n",
       "      <td>0</td>\n",
       "      <td>A/5 21171</td>\n",
       "      <td>7.2500</td>\n",
       "      <td>NaN</td>\n",
       "      <td>S</td>\n",
       "      <td>1</td>\n",
       "      <td>Mr</td>\n",
       "    </tr>\n",
       "    <tr>\n",
       "      <th>1</th>\n",
       "      <td>2</td>\n",
       "      <td>1</td>\n",
       "      <td>1</td>\n",
       "      <td>Cumings, Mrs. John Bradley (Florence Briggs Th...</td>\n",
       "      <td>female</td>\n",
       "      <td>38.0</td>\n",
       "      <td>1</td>\n",
       "      <td>0</td>\n",
       "      <td>PC 17599</td>\n",
       "      <td>71.2833</td>\n",
       "      <td>C85</td>\n",
       "      <td>C</td>\n",
       "      <td>0</td>\n",
       "      <td>Mrs</td>\n",
       "    </tr>\n",
       "    <tr>\n",
       "      <th>2</th>\n",
       "      <td>3</td>\n",
       "      <td>1</td>\n",
       "      <td>3</td>\n",
       "      <td>Heikkinen, Miss. Laina</td>\n",
       "      <td>female</td>\n",
       "      <td>26.0</td>\n",
       "      <td>0</td>\n",
       "      <td>0</td>\n",
       "      <td>STON/O2. 3101282</td>\n",
       "      <td>7.9250</td>\n",
       "      <td>NaN</td>\n",
       "      <td>S</td>\n",
       "      <td>0</td>\n",
       "      <td>Miss</td>\n",
       "    </tr>\n",
       "    <tr>\n",
       "      <th>3</th>\n",
       "      <td>4</td>\n",
       "      <td>1</td>\n",
       "      <td>1</td>\n",
       "      <td>Futrelle, Mrs. Jacques Heath (Lily May Peel)</td>\n",
       "      <td>female</td>\n",
       "      <td>35.0</td>\n",
       "      <td>1</td>\n",
       "      <td>0</td>\n",
       "      <td>113803</td>\n",
       "      <td>53.1000</td>\n",
       "      <td>C123</td>\n",
       "      <td>S</td>\n",
       "      <td>0</td>\n",
       "      <td>Mrs</td>\n",
       "    </tr>\n",
       "    <tr>\n",
       "      <th>4</th>\n",
       "      <td>5</td>\n",
       "      <td>0</td>\n",
       "      <td>3</td>\n",
       "      <td>Allen, Mr. William Henry</td>\n",
       "      <td>male</td>\n",
       "      <td>35.0</td>\n",
       "      <td>0</td>\n",
       "      <td>0</td>\n",
       "      <td>373450</td>\n",
       "      <td>8.0500</td>\n",
       "      <td>NaN</td>\n",
       "      <td>S</td>\n",
       "      <td>1</td>\n",
       "      <td>Mr</td>\n",
       "    </tr>\n",
       "  </tbody>\n",
       "</table>\n",
       "</div>"
      ],
      "text/plain": [
       "   PassengerId  Survived  Pclass  \\\n",
       "0            1         0       3   \n",
       "1            2         1       1   \n",
       "2            3         1       3   \n",
       "3            4         1       1   \n",
       "4            5         0       3   \n",
       "\n",
       "                                                Name     Sex   Age  SibSp  \\\n",
       "0                            Braund, Mr. Owen Harris    male  22.0      1   \n",
       "1  Cumings, Mrs. John Bradley (Florence Briggs Th...  female  38.0      1   \n",
       "2                             Heikkinen, Miss. Laina  female  26.0      0   \n",
       "3       Futrelle, Mrs. Jacques Heath (Lily May Peel)  female  35.0      1   \n",
       "4                           Allen, Mr. William Henry    male  35.0      0   \n",
       "\n",
       "   Parch            Ticket     Fare Cabin Embarked  Died Title  \n",
       "0      0         A/5 21171   7.2500   NaN        S     1    Mr  \n",
       "1      0          PC 17599  71.2833   C85        C     0   Mrs  \n",
       "2      0  STON/O2. 3101282   7.9250   NaN        S     0  Miss  \n",
       "3      0            113803  53.1000  C123        S     0   Mrs  \n",
       "4      0            373450   8.0500   NaN        S     1    Mr  "
      ]
     },
     "execution_count": 23,
     "metadata": {},
     "output_type": "execute_result"
    }
   ],
   "source": [
    "train_data['Title'] = train_data['Name'].map(lambda name:name.split(',')[1].split('.')[0].strip())\n",
    "train_data['Title'] = train_data.Title.map(Title_Dictionary)\n",
    "train_data.head()"
   ]
  },
  {
   "cell_type": "code",
   "execution_count": 24,
   "id": "03b63a34",
   "metadata": {
    "execution": {
     "iopub.execute_input": "2022-12-16T02:59:55.979075Z",
     "iopub.status.busy": "2022-12-16T02:59:55.978591Z",
     "iopub.status.idle": "2022-12-16T02:59:55.987473Z",
     "shell.execute_reply": "2022-12-16T02:59:55.986194Z"
    },
    "papermill": {
     "duration": 0.035575,
     "end_time": "2022-12-16T02:59:55.989801",
     "exception": false,
     "start_time": "2022-12-16T02:59:55.954226",
     "status": "completed"
    },
    "tags": []
   },
   "outputs": [
    {
     "data": {
      "text/plain": [
       "0           Mr\n",
       "1          Mrs\n",
       "2         Miss\n",
       "3          Mrs\n",
       "4           Mr\n",
       "        ...   \n",
       "886    Officer\n",
       "887       Miss\n",
       "888       Miss\n",
       "889         Mr\n",
       "890         Mr\n",
       "Name: Title, Length: 891, dtype: object"
      ]
     },
     "execution_count": 24,
     "metadata": {},
     "output_type": "execute_result"
    }
   ],
   "source": [
    "train_data['Title']"
   ]
  },
  {
   "cell_type": "markdown",
   "id": "b02b466e",
   "metadata": {
    "papermill": {
     "duration": 0.023014,
     "end_time": "2022-12-16T02:59:56.036091",
     "exception": false,
     "start_time": "2022-12-16T02:59:56.013077",
     "status": "completed"
    },
    "tags": []
   },
   "source": [
    "## Cleaning the dataset"
   ]
  },
  {
   "cell_type": "code",
   "execution_count": 25,
   "id": "acebba55",
   "metadata": {
    "execution": {
     "iopub.execute_input": "2022-12-16T02:59:56.083465Z",
     "iopub.status.busy": "2022-12-16T02:59:56.083067Z",
     "iopub.status.idle": "2022-12-16T02:59:56.099519Z",
     "shell.execute_reply": "2022-12-16T02:59:56.098392Z"
    },
    "papermill": {
     "duration": 0.042824,
     "end_time": "2022-12-16T02:59:56.101748",
     "exception": false,
     "start_time": "2022-12-16T02:59:56.058924",
     "status": "completed"
    },
    "tags": []
   },
   "outputs": [
    {
     "data": {
      "text/html": [
       "<div>\n",
       "<style scoped>\n",
       "    .dataframe tbody tr th:only-of-type {\n",
       "        vertical-align: middle;\n",
       "    }\n",
       "\n",
       "    .dataframe tbody tr th {\n",
       "        vertical-align: top;\n",
       "    }\n",
       "\n",
       "    .dataframe thead th {\n",
       "        text-align: right;\n",
       "    }\n",
       "</style>\n",
       "<table border=\"1\" class=\"dataframe\">\n",
       "  <thead>\n",
       "    <tr style=\"text-align: right;\">\n",
       "      <th></th>\n",
       "      <th>Survived</th>\n",
       "      <th>Pclass</th>\n",
       "      <th>Sex</th>\n",
       "      <th>Age</th>\n",
       "      <th>SibSp</th>\n",
       "      <th>Parch</th>\n",
       "      <th>Fare</th>\n",
       "      <th>Embarked</th>\n",
       "      <th>Title</th>\n",
       "    </tr>\n",
       "  </thead>\n",
       "  <tbody>\n",
       "    <tr>\n",
       "      <th>0</th>\n",
       "      <td>0</td>\n",
       "      <td>3</td>\n",
       "      <td>male</td>\n",
       "      <td>22.0</td>\n",
       "      <td>1</td>\n",
       "      <td>0</td>\n",
       "      <td>7.2500</td>\n",
       "      <td>S</td>\n",
       "      <td>Mr</td>\n",
       "    </tr>\n",
       "    <tr>\n",
       "      <th>1</th>\n",
       "      <td>1</td>\n",
       "      <td>1</td>\n",
       "      <td>female</td>\n",
       "      <td>38.0</td>\n",
       "      <td>1</td>\n",
       "      <td>0</td>\n",
       "      <td>71.2833</td>\n",
       "      <td>C</td>\n",
       "      <td>Mrs</td>\n",
       "    </tr>\n",
       "    <tr>\n",
       "      <th>2</th>\n",
       "      <td>1</td>\n",
       "      <td>3</td>\n",
       "      <td>female</td>\n",
       "      <td>26.0</td>\n",
       "      <td>0</td>\n",
       "      <td>0</td>\n",
       "      <td>7.9250</td>\n",
       "      <td>S</td>\n",
       "      <td>Miss</td>\n",
       "    </tr>\n",
       "    <tr>\n",
       "      <th>3</th>\n",
       "      <td>1</td>\n",
       "      <td>1</td>\n",
       "      <td>female</td>\n",
       "      <td>35.0</td>\n",
       "      <td>1</td>\n",
       "      <td>0</td>\n",
       "      <td>53.1000</td>\n",
       "      <td>S</td>\n",
       "      <td>Mrs</td>\n",
       "    </tr>\n",
       "    <tr>\n",
       "      <th>4</th>\n",
       "      <td>0</td>\n",
       "      <td>3</td>\n",
       "      <td>male</td>\n",
       "      <td>35.0</td>\n",
       "      <td>0</td>\n",
       "      <td>0</td>\n",
       "      <td>8.0500</td>\n",
       "      <td>S</td>\n",
       "      <td>Mr</td>\n",
       "    </tr>\n",
       "  </tbody>\n",
       "</table>\n",
       "</div>"
      ],
      "text/plain": [
       "   Survived  Pclass     Sex   Age  SibSp  Parch     Fare Embarked Title\n",
       "0         0       3    male  22.0      1      0   7.2500        S    Mr\n",
       "1         1       1  female  38.0      1      0  71.2833        C   Mrs\n",
       "2         1       3  female  26.0      0      0   7.9250        S  Miss\n",
       "3         1       1  female  35.0      1      0  53.1000        S   Mrs\n",
       "4         0       3    male  35.0      0      0   8.0500        S    Mr"
      ]
     },
     "execution_count": 25,
     "metadata": {},
     "output_type": "execute_result"
    }
   ],
   "source": [
    "#Removing the usless enteries from the dataset \n",
    "df1=train_data.drop(['Name','Ticket','Cabin','PassengerId','Died'], axis=1)\n",
    "df1.head()"
   ]
  },
  {
   "cell_type": "code",
   "execution_count": 26,
   "id": "005e332d",
   "metadata": {
    "execution": {
     "iopub.execute_input": "2022-12-16T02:59:56.150123Z",
     "iopub.status.busy": "2022-12-16T02:59:56.149740Z",
     "iopub.status.idle": "2022-12-16T02:59:56.158919Z",
     "shell.execute_reply": "2022-12-16T02:59:56.157809Z"
    },
    "papermill": {
     "duration": 0.036099,
     "end_time": "2022-12-16T02:59:56.161142",
     "exception": false,
     "start_time": "2022-12-16T02:59:56.125043",
     "status": "completed"
    },
    "tags": []
   },
   "outputs": [
    {
     "data": {
      "text/plain": [
       "Mr         517\n",
       "Miss       184\n",
       "Mrs        127\n",
       "Master      40\n",
       "Officer     18\n",
       "Royalty      5\n",
       "Name: Title, dtype: int64"
      ]
     },
     "execution_count": 26,
     "metadata": {},
     "output_type": "execute_result"
    }
   ],
   "source": [
    "train_data.Title.value_counts()"
   ]
  },
  {
   "cell_type": "code",
   "execution_count": 27,
   "id": "3e744326",
   "metadata": {
    "execution": {
     "iopub.execute_input": "2022-12-16T02:59:56.209138Z",
     "iopub.status.busy": "2022-12-16T02:59:56.208748Z",
     "iopub.status.idle": "2022-12-16T02:59:56.227642Z",
     "shell.execute_reply": "2022-12-16T02:59:56.226628Z"
    },
    "papermill": {
     "duration": 0.045574,
     "end_time": "2022-12-16T02:59:56.229844",
     "exception": false,
     "start_time": "2022-12-16T02:59:56.184270",
     "status": "completed"
    },
    "tags": []
   },
   "outputs": [
    {
     "data": {
      "text/html": [
       "<div>\n",
       "<style scoped>\n",
       "    .dataframe tbody tr th:only-of-type {\n",
       "        vertical-align: middle;\n",
       "    }\n",
       "\n",
       "    .dataframe tbody tr th {\n",
       "        vertical-align: top;\n",
       "    }\n",
       "\n",
       "    .dataframe thead th {\n",
       "        text-align: right;\n",
       "    }\n",
       "</style>\n",
       "<table border=\"1\" class=\"dataframe\">\n",
       "  <thead>\n",
       "    <tr style=\"text-align: right;\">\n",
       "      <th></th>\n",
       "      <th>Survived</th>\n",
       "      <th>Pclass</th>\n",
       "      <th>Sex</th>\n",
       "      <th>Age</th>\n",
       "      <th>SibSp</th>\n",
       "      <th>Parch</th>\n",
       "      <th>Fare</th>\n",
       "      <th>Embarked</th>\n",
       "      <th>Title</th>\n",
       "    </tr>\n",
       "  </thead>\n",
       "  <tbody>\n",
       "    <tr>\n",
       "      <th>0</th>\n",
       "      <td>0</td>\n",
       "      <td>3</td>\n",
       "      <td>1</td>\n",
       "      <td>22.0</td>\n",
       "      <td>1</td>\n",
       "      <td>0</td>\n",
       "      <td>7.2500</td>\n",
       "      <td>0</td>\n",
       "      <td>0</td>\n",
       "    </tr>\n",
       "    <tr>\n",
       "      <th>1</th>\n",
       "      <td>1</td>\n",
       "      <td>1</td>\n",
       "      <td>0</td>\n",
       "      <td>38.0</td>\n",
       "      <td>1</td>\n",
       "      <td>0</td>\n",
       "      <td>71.2833</td>\n",
       "      <td>1</td>\n",
       "      <td>2</td>\n",
       "    </tr>\n",
       "    <tr>\n",
       "      <th>2</th>\n",
       "      <td>1</td>\n",
       "      <td>3</td>\n",
       "      <td>0</td>\n",
       "      <td>26.0</td>\n",
       "      <td>0</td>\n",
       "      <td>0</td>\n",
       "      <td>7.9250</td>\n",
       "      <td>0</td>\n",
       "      <td>1</td>\n",
       "    </tr>\n",
       "    <tr>\n",
       "      <th>3</th>\n",
       "      <td>1</td>\n",
       "      <td>1</td>\n",
       "      <td>0</td>\n",
       "      <td>35.0</td>\n",
       "      <td>1</td>\n",
       "      <td>0</td>\n",
       "      <td>53.1000</td>\n",
       "      <td>0</td>\n",
       "      <td>2</td>\n",
       "    </tr>\n",
       "    <tr>\n",
       "      <th>4</th>\n",
       "      <td>0</td>\n",
       "      <td>3</td>\n",
       "      <td>1</td>\n",
       "      <td>35.0</td>\n",
       "      <td>0</td>\n",
       "      <td>0</td>\n",
       "      <td>8.0500</td>\n",
       "      <td>0</td>\n",
       "      <td>0</td>\n",
       "    </tr>\n",
       "  </tbody>\n",
       "</table>\n",
       "</div>"
      ],
      "text/plain": [
       "   Survived  Pclass  Sex   Age  SibSp  Parch     Fare Embarked  Title\n",
       "0         0       3    1  22.0      1      0   7.2500        0      0\n",
       "1         1       1    0  38.0      1      0  71.2833        1      2\n",
       "2         1       3    0  26.0      0      0   7.9250        0      1\n",
       "3         1       1    0  35.0      1      0  53.1000        0      2\n",
       "4         0       3    1  35.0      0      0   8.0500        0      0"
      ]
     },
     "execution_count": 27,
     "metadata": {},
     "output_type": "execute_result"
    }
   ],
   "source": [
    "# Converting categorical feature to numeric\n",
    "df1.Sex=df1.Sex.map({'female':0, 'male':1})\n",
    "df1.Embarked=df1.Embarked.map({'S':0, 'C':1, 'Q':2,'nan':'NaN'})\n",
    "df1.Title=df1.Title.map({'Mr':0, 'Miss':1, 'Mrs':2,'Master':3,'Officer':4,'Royalty':5})\n",
    "df1.head()"
   ]
  },
  {
   "cell_type": "code",
   "execution_count": 28,
   "id": "7a18ca3a",
   "metadata": {
    "execution": {
     "iopub.execute_input": "2022-12-16T02:59:56.278271Z",
     "iopub.status.busy": "2022-12-16T02:59:56.277826Z",
     "iopub.status.idle": "2022-12-16T02:59:56.287921Z",
     "shell.execute_reply": "2022-12-16T02:59:56.287014Z"
    },
    "papermill": {
     "duration": 0.037032,
     "end_time": "2022-12-16T02:59:56.290197",
     "exception": false,
     "start_time": "2022-12-16T02:59:56.253165",
     "status": "completed"
    },
    "tags": []
   },
   "outputs": [],
   "source": [
    "# median age of each sex\n",
    "median_age_men=df1[df1['Sex']==1]['Age'].median()\n",
    "median_age_women=df1[df1['Sex']==0]['Age'].median()"
   ]
  },
  {
   "cell_type": "code",
   "execution_count": 29,
   "id": "820ac485",
   "metadata": {
    "execution": {
     "iopub.execute_input": "2022-12-16T02:59:56.340186Z",
     "iopub.status.busy": "2022-12-16T02:59:56.339804Z",
     "iopub.status.idle": "2022-12-16T02:59:56.348826Z",
     "shell.execute_reply": "2022-12-16T02:59:56.347814Z"
    },
    "papermill": {
     "duration": 0.037102,
     "end_time": "2022-12-16T02:59:56.351013",
     "exception": false,
     "start_time": "2022-12-16T02:59:56.313911",
     "status": "completed"
    },
    "tags": []
   },
   "outputs": [],
   "source": [
    "# filling null values in 'Age' with respective median age\n",
    "df1.loc[(df1.Age.isnull()) & (df1['Sex']==0),'Age']=median_age_women\n",
    "df1.loc[(df1.Age.isnull()) & (df1['Sex']==1),'Age']=median_age_men\n"
   ]
  },
  {
   "cell_type": "markdown",
   "id": "0cb263ee",
   "metadata": {
    "papermill": {
     "duration": 0.022637,
     "end_time": "2022-12-16T02:59:56.396475",
     "exception": false,
     "start_time": "2022-12-16T02:59:56.373838",
     "status": "completed"
    },
    "tags": []
   },
   "source": [
    "we can also remove those entries in which age is not given but our dataset size is already very small and we would not like our model to be undefit for we will fill it with median we can also use the mode and mean too "
   ]
  },
  {
   "cell_type": "code",
   "execution_count": 30,
   "id": "259314f8",
   "metadata": {
    "execution": {
     "iopub.execute_input": "2022-12-16T02:59:56.444672Z",
     "iopub.status.busy": "2022-12-16T02:59:56.444266Z",
     "iopub.status.idle": "2022-12-16T02:59:56.453596Z",
     "shell.execute_reply": "2022-12-16T02:59:56.452493Z"
    },
    "papermill": {
     "duration": 0.036578,
     "end_time": "2022-12-16T02:59:56.455969",
     "exception": false,
     "start_time": "2022-12-16T02:59:56.419391",
     "status": "completed"
    },
    "tags": []
   },
   "outputs": [
    {
     "data": {
      "text/plain": [
       "Survived    0\n",
       "Pclass      0\n",
       "Sex         0\n",
       "Age         0\n",
       "SibSp       0\n",
       "Parch       0\n",
       "Fare        0\n",
       "Embarked    2\n",
       "Title       0\n",
       "dtype: int64"
      ]
     },
     "execution_count": 30,
     "metadata": {},
     "output_type": "execute_result"
    }
   ],
   "source": [
    "# checking for null values\n",
    "df1.isnull().sum()"
   ]
  },
  {
   "cell_type": "code",
   "execution_count": 31,
   "id": "be7d0712",
   "metadata": {
    "execution": {
     "iopub.execute_input": "2022-12-16T02:59:56.504821Z",
     "iopub.status.busy": "2022-12-16T02:59:56.504428Z",
     "iopub.status.idle": "2022-12-16T02:59:56.511167Z",
     "shell.execute_reply": "2022-12-16T02:59:56.510311Z"
    },
    "papermill": {
     "duration": 0.034005,
     "end_time": "2022-12-16T02:59:56.513252",
     "exception": false,
     "start_time": "2022-12-16T02:59:56.479247",
     "status": "completed"
    },
    "tags": []
   },
   "outputs": [],
   "source": [
    "# dropping rows with null value\n",
    "df1.dropna(inplace=True)"
   ]
  },
  {
   "cell_type": "code",
   "execution_count": 32,
   "id": "f23de012",
   "metadata": {
    "execution": {
     "iopub.execute_input": "2022-12-16T02:59:56.562652Z",
     "iopub.status.busy": "2022-12-16T02:59:56.561513Z",
     "iopub.status.idle": "2022-12-16T02:59:56.570774Z",
     "shell.execute_reply": "2022-12-16T02:59:56.569596Z"
    },
    "papermill": {
     "duration": 0.036793,
     "end_time": "2022-12-16T02:59:56.573334",
     "exception": false,
     "start_time": "2022-12-16T02:59:56.536541",
     "status": "completed"
    },
    "tags": []
   },
   "outputs": [
    {
     "data": {
      "text/plain": [
       "Survived    0\n",
       "Pclass      0\n",
       "Sex         0\n",
       "Age         0\n",
       "SibSp       0\n",
       "Parch       0\n",
       "Fare        0\n",
       "Embarked    0\n",
       "Title       0\n",
       "dtype: int64"
      ]
     },
     "execution_count": 32,
     "metadata": {},
     "output_type": "execute_result"
    }
   ],
   "source": [
    "# Data is cleaned to have no null value\n",
    "df1.isnull().sum()"
   ]
  },
  {
   "cell_type": "markdown",
   "id": "9741bb73",
   "metadata": {
    "papermill": {
     "duration": 0.02316,
     "end_time": "2022-12-16T02:59:56.620053",
     "exception": false,
     "start_time": "2022-12-16T02:59:56.596893",
     "status": "completed"
    },
    "tags": []
   },
   "source": [
    "## Feature Scaling"
   ]
  },
  {
   "cell_type": "code",
   "execution_count": 33,
   "id": "3089a6df",
   "metadata": {
    "execution": {
     "iopub.execute_input": "2022-12-16T02:59:56.669596Z",
     "iopub.status.busy": "2022-12-16T02:59:56.669173Z",
     "iopub.status.idle": "2022-12-16T02:59:56.705271Z",
     "shell.execute_reply": "2022-12-16T02:59:56.704422Z"
    },
    "papermill": {
     "duration": 0.064085,
     "end_time": "2022-12-16T02:59:56.707778",
     "exception": false,
     "start_time": "2022-12-16T02:59:56.643693",
     "status": "completed"
    },
    "tags": []
   },
   "outputs": [
    {
     "data": {
      "text/html": [
       "<div>\n",
       "<style scoped>\n",
       "    .dataframe tbody tr th:only-of-type {\n",
       "        vertical-align: middle;\n",
       "    }\n",
       "\n",
       "    .dataframe tbody tr th {\n",
       "        vertical-align: top;\n",
       "    }\n",
       "\n",
       "    .dataframe thead th {\n",
       "        text-align: right;\n",
       "    }\n",
       "</style>\n",
       "<table border=\"1\" class=\"dataframe\">\n",
       "  <thead>\n",
       "    <tr style=\"text-align: right;\">\n",
       "      <th></th>\n",
       "      <th>Survived</th>\n",
       "      <th>Pclass</th>\n",
       "      <th>Sex</th>\n",
       "      <th>Age</th>\n",
       "      <th>SibSp</th>\n",
       "      <th>Parch</th>\n",
       "      <th>Fare</th>\n",
       "      <th>Title</th>\n",
       "    </tr>\n",
       "  </thead>\n",
       "  <tbody>\n",
       "    <tr>\n",
       "      <th>count</th>\n",
       "      <td>889.000000</td>\n",
       "      <td>889.000000</td>\n",
       "      <td>889.000000</td>\n",
       "      <td>889.000000</td>\n",
       "      <td>889.000000</td>\n",
       "      <td>889.000000</td>\n",
       "      <td>889.000000</td>\n",
       "      <td>889.000000</td>\n",
       "    </tr>\n",
       "    <tr>\n",
       "      <th>mean</th>\n",
       "      <td>0.382452</td>\n",
       "      <td>2.311586</td>\n",
       "      <td>0.649044</td>\n",
       "      <td>29.395017</td>\n",
       "      <td>0.524184</td>\n",
       "      <td>0.382452</td>\n",
       "      <td>32.096681</td>\n",
       "      <td>0.733408</td>\n",
       "    </tr>\n",
       "    <tr>\n",
       "      <th>std</th>\n",
       "      <td>0.486260</td>\n",
       "      <td>0.834700</td>\n",
       "      <td>0.477538</td>\n",
       "      <td>12.984264</td>\n",
       "      <td>1.103705</td>\n",
       "      <td>0.806761</td>\n",
       "      <td>49.697504</td>\n",
       "      <td>1.051499</td>\n",
       "    </tr>\n",
       "    <tr>\n",
       "      <th>min</th>\n",
       "      <td>0.000000</td>\n",
       "      <td>1.000000</td>\n",
       "      <td>0.000000</td>\n",
       "      <td>0.420000</td>\n",
       "      <td>0.000000</td>\n",
       "      <td>0.000000</td>\n",
       "      <td>0.000000</td>\n",
       "      <td>0.000000</td>\n",
       "    </tr>\n",
       "    <tr>\n",
       "      <th>25%</th>\n",
       "      <td>0.000000</td>\n",
       "      <td>2.000000</td>\n",
       "      <td>0.000000</td>\n",
       "      <td>22.000000</td>\n",
       "      <td>0.000000</td>\n",
       "      <td>0.000000</td>\n",
       "      <td>7.895800</td>\n",
       "      <td>0.000000</td>\n",
       "    </tr>\n",
       "    <tr>\n",
       "      <th>50%</th>\n",
       "      <td>0.000000</td>\n",
       "      <td>3.000000</td>\n",
       "      <td>1.000000</td>\n",
       "      <td>29.000000</td>\n",
       "      <td>0.000000</td>\n",
       "      <td>0.000000</td>\n",
       "      <td>14.454200</td>\n",
       "      <td>0.000000</td>\n",
       "    </tr>\n",
       "    <tr>\n",
       "      <th>75%</th>\n",
       "      <td>1.000000</td>\n",
       "      <td>3.000000</td>\n",
       "      <td>1.000000</td>\n",
       "      <td>35.000000</td>\n",
       "      <td>1.000000</td>\n",
       "      <td>0.000000</td>\n",
       "      <td>31.000000</td>\n",
       "      <td>1.000000</td>\n",
       "    </tr>\n",
       "    <tr>\n",
       "      <th>max</th>\n",
       "      <td>1.000000</td>\n",
       "      <td>3.000000</td>\n",
       "      <td>1.000000</td>\n",
       "      <td>80.000000</td>\n",
       "      <td>8.000000</td>\n",
       "      <td>6.000000</td>\n",
       "      <td>512.329200</td>\n",
       "      <td>5.000000</td>\n",
       "    </tr>\n",
       "  </tbody>\n",
       "</table>\n",
       "</div>"
      ],
      "text/plain": [
       "         Survived      Pclass         Sex         Age       SibSp       Parch  \\\n",
       "count  889.000000  889.000000  889.000000  889.000000  889.000000  889.000000   \n",
       "mean     0.382452    2.311586    0.649044   29.395017    0.524184    0.382452   \n",
       "std      0.486260    0.834700    0.477538   12.984264    1.103705    0.806761   \n",
       "min      0.000000    1.000000    0.000000    0.420000    0.000000    0.000000   \n",
       "25%      0.000000    2.000000    0.000000   22.000000    0.000000    0.000000   \n",
       "50%      0.000000    3.000000    1.000000   29.000000    0.000000    0.000000   \n",
       "75%      1.000000    3.000000    1.000000   35.000000    1.000000    0.000000   \n",
       "max      1.000000    3.000000    1.000000   80.000000    8.000000    6.000000   \n",
       "\n",
       "             Fare       Title  \n",
       "count  889.000000  889.000000  \n",
       "mean    32.096681    0.733408  \n",
       "std     49.697504    1.051499  \n",
       "min      0.000000    0.000000  \n",
       "25%      7.895800    0.000000  \n",
       "50%     14.454200    0.000000  \n",
       "75%     31.000000    1.000000  \n",
       "max    512.329200    5.000000  "
      ]
     },
     "execution_count": 33,
     "metadata": {},
     "output_type": "execute_result"
    }
   ],
   "source": [
    "df1.describe()"
   ]
  },
  {
   "cell_type": "markdown",
   "id": "e12ed127",
   "metadata": {
    "papermill": {
     "duration": 0.023546,
     "end_time": "2022-12-16T02:59:56.754950",
     "exception": false,
     "start_time": "2022-12-16T02:59:56.731404",
     "status": "completed"
    },
    "tags": []
   },
   "source": [
    "## Data Modeling"
   ]
  },
  {
   "cell_type": "code",
   "execution_count": 34,
   "id": "6faa7517",
   "metadata": {
    "execution": {
     "iopub.execute_input": "2022-12-16T02:59:56.805044Z",
     "iopub.status.busy": "2022-12-16T02:59:56.804284Z",
     "iopub.status.idle": "2022-12-16T02:59:57.110196Z",
     "shell.execute_reply": "2022-12-16T02:59:57.109024Z"
    },
    "papermill": {
     "duration": 0.333634,
     "end_time": "2022-12-16T02:59:57.112859",
     "exception": false,
     "start_time": "2022-12-16T02:59:56.779225",
     "status": "completed"
    },
    "tags": []
   },
   "outputs": [],
   "source": [
    "from sklearn.model_selection import train_test_split"
   ]
  },
  {
   "cell_type": "code",
   "execution_count": 35,
   "id": "bbedfb0d",
   "metadata": {
    "execution": {
     "iopub.execute_input": "2022-12-16T02:59:57.164357Z",
     "iopub.status.busy": "2022-12-16T02:59:57.163932Z",
     "iopub.status.idle": "2022-12-16T02:59:57.173827Z",
     "shell.execute_reply": "2022-12-16T02:59:57.172663Z"
    },
    "papermill": {
     "duration": 0.039197,
     "end_time": "2022-12-16T02:59:57.176540",
     "exception": false,
     "start_time": "2022-12-16T02:59:57.137343",
     "status": "completed"
    },
    "tags": []
   },
   "outputs": [],
   "source": [
    "X_train, X_test, y_train, y_test = train_test_split(\n",
    "    df1.drop(['Survived'], axis=1),\n",
    "    df1.Survived,\n",
    "    test_size= 0.2,\n",
    "    random_state=0,\n",
    "    stratify=df1.Survived\n",
    ")"
   ]
  },
  {
   "cell_type": "markdown",
   "id": "2f438f48",
   "metadata": {
    "papermill": {
     "duration": 0.023509,
     "end_time": "2022-12-16T02:59:57.223953",
     "exception": false,
     "start_time": "2022-12-16T02:59:57.200444",
     "status": "completed"
    },
    "tags": []
   },
   "source": [
    "* Let firstly try it with logestic regression\n"
   ]
  },
  {
   "cell_type": "code",
   "execution_count": 36,
   "id": "e1b12566",
   "metadata": {
    "execution": {
     "iopub.execute_input": "2022-12-16T02:59:57.274065Z",
     "iopub.status.busy": "2022-12-16T02:59:57.273342Z",
     "iopub.status.idle": "2022-12-16T02:59:57.388107Z",
     "shell.execute_reply": "2022-12-16T02:59:57.386891Z"
    },
    "papermill": {
     "duration": 0.143326,
     "end_time": "2022-12-16T02:59:57.391516",
     "exception": false,
     "start_time": "2022-12-16T02:59:57.248190",
     "status": "completed"
    },
    "tags": []
   },
   "outputs": [
    {
     "name": "stderr",
     "output_type": "stream",
     "text": [
      "/opt/conda/lib/python3.7/site-packages/sklearn/linear_model/_logistic.py:818: ConvergenceWarning: lbfgs failed to converge (status=1):\n",
      "STOP: TOTAL NO. of ITERATIONS REACHED LIMIT.\n",
      "\n",
      "Increase the number of iterations (max_iter) or scale the data as shown in:\n",
      "    https://scikit-learn.org/stable/modules/preprocessing.html\n",
      "Please also refer to the documentation for alternative solver options:\n",
      "    https://scikit-learn.org/stable/modules/linear_model.html#logistic-regression\n",
      "  extra_warning_msg=_LOGISTIC_SOLVER_CONVERGENCE_MSG,\n"
     ]
    },
    {
     "data": {
      "text/plain": [
       "0.848314606741573"
      ]
     },
     "execution_count": 36,
     "metadata": {},
     "output_type": "execute_result"
    }
   ],
   "source": [
    "# Logistic regression\n",
    "from sklearn.linear_model import LogisticRegression\n",
    "clf = LogisticRegression()\n",
    "clf.fit(X_train, y_train)\n",
    "\n",
    "from sklearn.metrics import accuracy_score\n",
    "\n",
    "Y_pred = clf.predict(X_test)\n",
    "accuracy_score(y_test, Y_pred)"
   ]
  },
  {
   "cell_type": "markdown",
   "id": "b712850a",
   "metadata": {
    "papermill": {
     "duration": 0.023514,
     "end_time": "2022-12-16T02:59:57.439659",
     "exception": false,
     "start_time": "2022-12-16T02:59:57.416145",
     "status": "completed"
    },
    "tags": []
   },
   "source": [
    "#### Confusion Matrix"
   ]
  },
  {
   "cell_type": "code",
   "execution_count": 37,
   "id": "78dc4b0a",
   "metadata": {
    "execution": {
     "iopub.execute_input": "2022-12-16T02:59:57.490231Z",
     "iopub.status.busy": "2022-12-16T02:59:57.489827Z",
     "iopub.status.idle": "2022-12-16T02:59:57.501087Z",
     "shell.execute_reply": "2022-12-16T02:59:57.500017Z"
    },
    "papermill": {
     "duration": 0.039905,
     "end_time": "2022-12-16T02:59:57.503626",
     "exception": false,
     "start_time": "2022-12-16T02:59:57.463721",
     "status": "completed"
    },
    "tags": []
   },
   "outputs": [
    {
     "data": {
      "text/plain": [
       "array([[99, 11],\n",
       "       [16, 52]])"
      ]
     },
     "execution_count": 37,
     "metadata": {},
     "output_type": "execute_result"
    }
   ],
   "source": [
    "plt.xkcd()\n",
    "from sklearn.metrics import confusion_matrix\n",
    "cm=confusion_matrix(y_test, Y_pred)\n",
    "cm"
   ]
  },
  {
   "cell_type": "code",
   "execution_count": 38,
   "id": "e12baf32",
   "metadata": {
    "execution": {
     "iopub.execute_input": "2022-12-16T02:59:57.553541Z",
     "iopub.status.busy": "2022-12-16T02:59:57.553111Z",
     "iopub.status.idle": "2022-12-16T02:59:57.930626Z",
     "shell.execute_reply": "2022-12-16T02:59:57.929776Z"
    },
    "papermill": {
     "duration": 0.405205,
     "end_time": "2022-12-16T02:59:57.932889",
     "exception": false,
     "start_time": "2022-12-16T02:59:57.527684",
     "status": "completed"
    },
    "tags": []
   },
   "outputs": [
    {
     "data": {
      "text/plain": [
       "<AxesSubplot:>"
      ]
     },
     "execution_count": 38,
     "metadata": {},
     "output_type": "execute_result"
    },
    {
     "data": {
      "image/png": "[encoded data removed]",
      "text/plain": [
       "<Figure size 640x480 with 2 Axes>"
      ]
     },
     "metadata": {},
     "output_type": "display_data"
    }
   ],
   "source": [
    "sns.heatmap(cm,annot=True)"
   ]
  },
  {
   "cell_type": "markdown",
   "id": "38587b36",
   "metadata": {
    "papermill": {
     "duration": 0.024493,
     "end_time": "2022-12-16T02:59:57.982420",
     "exception": false,
     "start_time": "2022-12-16T02:59:57.957927",
     "status": "completed"
    },
    "tags": []
   },
   "source": [
    "## Cleaning test dataset"
   ]
  },
  {
   "cell_type": "code",
   "execution_count": 39,
   "id": "6e58188e",
   "metadata": {
    "execution": {
     "iopub.execute_input": "2022-12-16T02:59:58.034400Z",
     "iopub.status.busy": "2022-12-16T02:59:58.033702Z",
     "iopub.status.idle": "2022-12-16T02:59:58.048778Z",
     "shell.execute_reply": "2022-12-16T02:59:58.047980Z"
    },
    "papermill": {
     "duration": 0.043675,
     "end_time": "2022-12-16T02:59:58.050969",
     "exception": false,
     "start_time": "2022-12-16T02:59:58.007294",
     "status": "completed"
    },
    "tags": []
   },
   "outputs": [
    {
     "data": {
      "text/html": [
       "<div>\n",
       "<style scoped>\n",
       "    .dataframe tbody tr th:only-of-type {\n",
       "        vertical-align: middle;\n",
       "    }\n",
       "\n",
       "    .dataframe tbody tr th {\n",
       "        vertical-align: top;\n",
       "    }\n",
       "\n",
       "    .dataframe thead th {\n",
       "        text-align: right;\n",
       "    }\n",
       "</style>\n",
       "<table border=\"1\" class=\"dataframe\">\n",
       "  <thead>\n",
       "    <tr style=\"text-align: right;\">\n",
       "      <th></th>\n",
       "      <th>PassengerId</th>\n",
       "      <th>Pclass</th>\n",
       "      <th>Name</th>\n",
       "      <th>Sex</th>\n",
       "      <th>Age</th>\n",
       "      <th>SibSp</th>\n",
       "      <th>Parch</th>\n",
       "      <th>Ticket</th>\n",
       "      <th>Fare</th>\n",
       "      <th>Cabin</th>\n",
       "      <th>Embarked</th>\n",
       "    </tr>\n",
       "  </thead>\n",
       "  <tbody>\n",
       "    <tr>\n",
       "      <th>0</th>\n",
       "      <td>892</td>\n",
       "      <td>3</td>\n",
       "      <td>Kelly, Mr. James</td>\n",
       "      <td>male</td>\n",
       "      <td>34.5</td>\n",
       "      <td>0</td>\n",
       "      <td>0</td>\n",
       "      <td>330911</td>\n",
       "      <td>7.8292</td>\n",
       "      <td>NaN</td>\n",
       "      <td>Q</td>\n",
       "    </tr>\n",
       "    <tr>\n",
       "      <th>1</th>\n",
       "      <td>893</td>\n",
       "      <td>3</td>\n",
       "      <td>Wilkes, Mrs. James (Ellen Needs)</td>\n",
       "      <td>female</td>\n",
       "      <td>47.0</td>\n",
       "      <td>1</td>\n",
       "      <td>0</td>\n",
       "      <td>363272</td>\n",
       "      <td>7.0000</td>\n",
       "      <td>NaN</td>\n",
       "      <td>S</td>\n",
       "    </tr>\n",
       "    <tr>\n",
       "      <th>2</th>\n",
       "      <td>894</td>\n",
       "      <td>2</td>\n",
       "      <td>Myles, Mr. Thomas Francis</td>\n",
       "      <td>male</td>\n",
       "      <td>62.0</td>\n",
       "      <td>0</td>\n",
       "      <td>0</td>\n",
       "      <td>240276</td>\n",
       "      <td>9.6875</td>\n",
       "      <td>NaN</td>\n",
       "      <td>Q</td>\n",
       "    </tr>\n",
       "    <tr>\n",
       "      <th>3</th>\n",
       "      <td>895</td>\n",
       "      <td>3</td>\n",
       "      <td>Wirz, Mr. Albert</td>\n",
       "      <td>male</td>\n",
       "      <td>27.0</td>\n",
       "      <td>0</td>\n",
       "      <td>0</td>\n",
       "      <td>315154</td>\n",
       "      <td>8.6625</td>\n",
       "      <td>NaN</td>\n",
       "      <td>S</td>\n",
       "    </tr>\n",
       "    <tr>\n",
       "      <th>4</th>\n",
       "      <td>896</td>\n",
       "      <td>3</td>\n",
       "      <td>Hirvonen, Mrs. Alexander (Helga E Lindqvist)</td>\n",
       "      <td>female</td>\n",
       "      <td>22.0</td>\n",
       "      <td>1</td>\n",
       "      <td>1</td>\n",
       "      <td>3101298</td>\n",
       "      <td>12.2875</td>\n",
       "      <td>NaN</td>\n",
       "      <td>S</td>\n",
       "    </tr>\n",
       "  </tbody>\n",
       "</table>\n",
       "</div>"
      ],
      "text/plain": [
       "   PassengerId  Pclass                                          Name     Sex  \\\n",
       "0          892       3                              Kelly, Mr. James    male   \n",
       "1          893       3              Wilkes, Mrs. James (Ellen Needs)  female   \n",
       "2          894       2                     Myles, Mr. Thomas Francis    male   \n",
       "3          895       3                              Wirz, Mr. Albert    male   \n",
       "4          896       3  Hirvonen, Mrs. Alexander (Helga E Lindqvist)  female   \n",
       "\n",
       "    Age  SibSp  Parch   Ticket     Fare Cabin Embarked  \n",
       "0  34.5      0      0   330911   7.8292   NaN        Q  \n",
       "1  47.0      1      0   363272   7.0000   NaN        S  \n",
       "2  62.0      0      0   240276   9.6875   NaN        Q  \n",
       "3  27.0      0      0   315154   8.6625   NaN        S  \n",
       "4  22.0      1      1  3101298  12.2875   NaN        S  "
      ]
     },
     "execution_count": 39,
     "metadata": {},
     "output_type": "execute_result"
    }
   ],
   "source": [
    "# test dataset\n",
    "test_data.head()"
   ]
  },
  {
   "cell_type": "markdown",
   "id": "f1082072",
   "metadata": {
    "papermill": {
     "duration": 0.024663,
     "end_time": "2022-12-16T02:59:58.101248",
     "exception": false,
     "start_time": "2022-12-16T02:59:58.076585",
     "status": "completed"
    },
    "tags": []
   },
   "source": [
    "Different titles in the train set are:"
   ]
  },
  {
   "cell_type": "code",
   "execution_count": 40,
   "id": "f741bcd6",
   "metadata": {
    "execution": {
     "iopub.execute_input": "2022-12-16T02:59:58.153252Z",
     "iopub.status.busy": "2022-12-16T02:59:58.152515Z",
     "iopub.status.idle": "2022-12-16T02:59:58.159448Z",
     "shell.execute_reply": "2022-12-16T02:59:58.158109Z"
    },
    "papermill": {
     "duration": 0.035634,
     "end_time": "2022-12-16T02:59:58.161690",
     "exception": false,
     "start_time": "2022-12-16T02:59:58.126056",
     "status": "completed"
    },
    "tags": []
   },
   "outputs": [
    {
     "name": "stdout",
     "output_type": "stream",
     "text": [
      "{'Ms', 'Mrs', 'Miss', 'Mr', 'Master', 'Dona', 'Dr', 'Rev', 'Col'}\n"
     ]
    }
   ],
   "source": [
    "titles = set()\n",
    "for name in test_data['Name']:\n",
    "    titles.add(name.split(',')[1].split('.')[0].strip())\n",
    "print(titles)"
   ]
  },
  {
   "cell_type": "code",
   "execution_count": 41,
   "id": "1ca79289",
   "metadata": {
    "execution": {
     "iopub.execute_input": "2022-12-16T02:59:58.213028Z",
     "iopub.status.busy": "2022-12-16T02:59:58.212641Z",
     "iopub.status.idle": "2022-12-16T02:59:58.232801Z",
     "shell.execute_reply": "2022-12-16T02:59:58.231736Z"
    },
    "papermill": {
     "duration": 0.048763,
     "end_time": "2022-12-16T02:59:58.235112",
     "exception": false,
     "start_time": "2022-12-16T02:59:58.186349",
     "status": "completed"
    },
    "tags": []
   },
   "outputs": [
    {
     "data": {
      "text/html": [
       "<div>\n",
       "<style scoped>\n",
       "    .dataframe tbody tr th:only-of-type {\n",
       "        vertical-align: middle;\n",
       "    }\n",
       "\n",
       "    .dataframe tbody tr th {\n",
       "        vertical-align: top;\n",
       "    }\n",
       "\n",
       "    .dataframe thead th {\n",
       "        text-align: right;\n",
       "    }\n",
       "</style>\n",
       "<table border=\"1\" class=\"dataframe\">\n",
       "  <thead>\n",
       "    <tr style=\"text-align: right;\">\n",
       "      <th></th>\n",
       "      <th>PassengerId</th>\n",
       "      <th>Pclass</th>\n",
       "      <th>Name</th>\n",
       "      <th>Sex</th>\n",
       "      <th>Age</th>\n",
       "      <th>SibSp</th>\n",
       "      <th>Parch</th>\n",
       "      <th>Ticket</th>\n",
       "      <th>Fare</th>\n",
       "      <th>Cabin</th>\n",
       "      <th>Embarked</th>\n",
       "      <th>Title</th>\n",
       "    </tr>\n",
       "  </thead>\n",
       "  <tbody>\n",
       "    <tr>\n",
       "      <th>0</th>\n",
       "      <td>892</td>\n",
       "      <td>3</td>\n",
       "      <td>Kelly, Mr. James</td>\n",
       "      <td>male</td>\n",
       "      <td>34.5</td>\n",
       "      <td>0</td>\n",
       "      <td>0</td>\n",
       "      <td>330911</td>\n",
       "      <td>7.8292</td>\n",
       "      <td>NaN</td>\n",
       "      <td>Q</td>\n",
       "      <td>Mr</td>\n",
       "    </tr>\n",
       "    <tr>\n",
       "      <th>1</th>\n",
       "      <td>893</td>\n",
       "      <td>3</td>\n",
       "      <td>Wilkes, Mrs. James (Ellen Needs)</td>\n",
       "      <td>female</td>\n",
       "      <td>47.0</td>\n",
       "      <td>1</td>\n",
       "      <td>0</td>\n",
       "      <td>363272</td>\n",
       "      <td>7.0000</td>\n",
       "      <td>NaN</td>\n",
       "      <td>S</td>\n",
       "      <td>Mrs</td>\n",
       "    </tr>\n",
       "    <tr>\n",
       "      <th>2</th>\n",
       "      <td>894</td>\n",
       "      <td>2</td>\n",
       "      <td>Myles, Mr. Thomas Francis</td>\n",
       "      <td>male</td>\n",
       "      <td>62.0</td>\n",
       "      <td>0</td>\n",
       "      <td>0</td>\n",
       "      <td>240276</td>\n",
       "      <td>9.6875</td>\n",
       "      <td>NaN</td>\n",
       "      <td>Q</td>\n",
       "      <td>Mr</td>\n",
       "    </tr>\n",
       "    <tr>\n",
       "      <th>3</th>\n",
       "      <td>895</td>\n",
       "      <td>3</td>\n",
       "      <td>Wirz, Mr. Albert</td>\n",
       "      <td>male</td>\n",
       "      <td>27.0</td>\n",
       "      <td>0</td>\n",
       "      <td>0</td>\n",
       "      <td>315154</td>\n",
       "      <td>8.6625</td>\n",
       "      <td>NaN</td>\n",
       "      <td>S</td>\n",
       "      <td>Mr</td>\n",
       "    </tr>\n",
       "    <tr>\n",
       "      <th>4</th>\n",
       "      <td>896</td>\n",
       "      <td>3</td>\n",
       "      <td>Hirvonen, Mrs. Alexander (Helga E Lindqvist)</td>\n",
       "      <td>female</td>\n",
       "      <td>22.0</td>\n",
       "      <td>1</td>\n",
       "      <td>1</td>\n",
       "      <td>3101298</td>\n",
       "      <td>12.2875</td>\n",
       "      <td>NaN</td>\n",
       "      <td>S</td>\n",
       "      <td>Mrs</td>\n",
       "    </tr>\n",
       "  </tbody>\n",
       "</table>\n",
       "</div>"
      ],
      "text/plain": [
       "   PassengerId  Pclass                                          Name     Sex  \\\n",
       "0          892       3                              Kelly, Mr. James    male   \n",
       "1          893       3              Wilkes, Mrs. James (Ellen Needs)  female   \n",
       "2          894       2                     Myles, Mr. Thomas Francis    male   \n",
       "3          895       3                              Wirz, Mr. Albert    male   \n",
       "4          896       3  Hirvonen, Mrs. Alexander (Helga E Lindqvist)  female   \n",
       "\n",
       "    Age  SibSp  Parch   Ticket     Fare Cabin Embarked Title  \n",
       "0  34.5      0      0   330911   7.8292   NaN        Q    Mr  \n",
       "1  47.0      1      0   363272   7.0000   NaN        S   Mrs  \n",
       "2  62.0      0      0   240276   9.6875   NaN        Q    Mr  \n",
       "3  27.0      0      0   315154   8.6625   NaN        S    Mr  \n",
       "4  22.0      1      1  3101298  12.2875   NaN        S   Mrs  "
      ]
     },
     "execution_count": 41,
     "metadata": {},
     "output_type": "execute_result"
    }
   ],
   "source": [
    "test_data['Title'] = test_data['Name'].map(lambda name:name.split(',')[1].split('.')[0].strip())\n",
    "test_data['Title'] = test_data.Title.map(Title_Dictionary)\n",
    "test_data.head()\n"
   ]
  },
  {
   "cell_type": "code",
   "execution_count": 42,
   "id": "577e54ee",
   "metadata": {
    "execution": {
     "iopub.execute_input": "2022-12-16T02:59:58.287455Z",
     "iopub.status.busy": "2022-12-16T02:59:58.287074Z",
     "iopub.status.idle": "2022-12-16T02:59:58.293568Z",
     "shell.execute_reply": "2022-12-16T02:59:58.292414Z"
    },
    "papermill": {
     "duration": 0.035267,
     "end_time": "2022-12-16T02:59:58.295839",
     "exception": false,
     "start_time": "2022-12-16T02:59:58.260572",
     "status": "completed"
    },
    "tags": []
   },
   "outputs": [],
   "source": [
    "# dropping unwanted columns\n",
    "df2=test_data.drop(['PassengerId','Name','Ticket','Cabin'], axis=1)"
   ]
  },
  {
   "cell_type": "code",
   "execution_count": 43,
   "id": "024f3063",
   "metadata": {
    "execution": {
     "iopub.execute_input": "2022-12-16T02:59:58.348408Z",
     "iopub.status.busy": "2022-12-16T02:59:58.347291Z",
     "iopub.status.idle": "2022-12-16T02:59:58.367747Z",
     "shell.execute_reply": "2022-12-16T02:59:58.366484Z"
    },
    "papermill": {
     "duration": 0.049481,
     "end_time": "2022-12-16T02:59:58.370100",
     "exception": false,
     "start_time": "2022-12-16T02:59:58.320619",
     "status": "completed"
    },
    "tags": []
   },
   "outputs": [
    {
     "data": {
      "text/html": [
       "<div>\n",
       "<style scoped>\n",
       "    .dataframe tbody tr th:only-of-type {\n",
       "        vertical-align: middle;\n",
       "    }\n",
       "\n",
       "    .dataframe tbody tr th {\n",
       "        vertical-align: top;\n",
       "    }\n",
       "\n",
       "    .dataframe thead th {\n",
       "        text-align: right;\n",
       "    }\n",
       "</style>\n",
       "<table border=\"1\" class=\"dataframe\">\n",
       "  <thead>\n",
       "    <tr style=\"text-align: right;\">\n",
       "      <th></th>\n",
       "      <th>Pclass</th>\n",
       "      <th>Sex</th>\n",
       "      <th>Age</th>\n",
       "      <th>SibSp</th>\n",
       "      <th>Parch</th>\n",
       "      <th>Fare</th>\n",
       "      <th>Embarked</th>\n",
       "      <th>Title</th>\n",
       "    </tr>\n",
       "  </thead>\n",
       "  <tbody>\n",
       "    <tr>\n",
       "      <th>0</th>\n",
       "      <td>3</td>\n",
       "      <td>1</td>\n",
       "      <td>34.5</td>\n",
       "      <td>0</td>\n",
       "      <td>0</td>\n",
       "      <td>7.8292</td>\n",
       "      <td>2</td>\n",
       "      <td>0.0</td>\n",
       "    </tr>\n",
       "    <tr>\n",
       "      <th>1</th>\n",
       "      <td>3</td>\n",
       "      <td>0</td>\n",
       "      <td>47.0</td>\n",
       "      <td>1</td>\n",
       "      <td>0</td>\n",
       "      <td>7.0000</td>\n",
       "      <td>0</td>\n",
       "      <td>2.0</td>\n",
       "    </tr>\n",
       "    <tr>\n",
       "      <th>2</th>\n",
       "      <td>2</td>\n",
       "      <td>1</td>\n",
       "      <td>62.0</td>\n",
       "      <td>0</td>\n",
       "      <td>0</td>\n",
       "      <td>9.6875</td>\n",
       "      <td>2</td>\n",
       "      <td>0.0</td>\n",
       "    </tr>\n",
       "    <tr>\n",
       "      <th>3</th>\n",
       "      <td>3</td>\n",
       "      <td>1</td>\n",
       "      <td>27.0</td>\n",
       "      <td>0</td>\n",
       "      <td>0</td>\n",
       "      <td>8.6625</td>\n",
       "      <td>0</td>\n",
       "      <td>0.0</td>\n",
       "    </tr>\n",
       "    <tr>\n",
       "      <th>4</th>\n",
       "      <td>3</td>\n",
       "      <td>0</td>\n",
       "      <td>22.0</td>\n",
       "      <td>1</td>\n",
       "      <td>1</td>\n",
       "      <td>12.2875</td>\n",
       "      <td>0</td>\n",
       "      <td>2.0</td>\n",
       "    </tr>\n",
       "  </tbody>\n",
       "</table>\n",
       "</div>"
      ],
      "text/plain": [
       "   Pclass  Sex   Age  SibSp  Parch     Fare Embarked  Title\n",
       "0       3    1  34.5      0      0   7.8292        2    0.0\n",
       "1       3    0  47.0      1      0   7.0000        0    2.0\n",
       "2       2    1  62.0      0      0   9.6875        2    0.0\n",
       "3       3    1  27.0      0      0   8.6625        0    0.0\n",
       "4       3    0  22.0      1      1  12.2875        0    2.0"
      ]
     },
     "execution_count": 43,
     "metadata": {},
     "output_type": "execute_result"
    }
   ],
   "source": [
    "# Converting categorical feature to numeric\n",
    "df2.Sex=df2.Sex.map({'female':0, 'male':1})\n",
    "df2.Embarked=df2.Embarked.map({'S':0, 'C':1, 'Q':2,'nan':'nan'})\n",
    "df2.Title=df2.Title.map({'Mr':0, 'Miss':1, 'Mrs':2,'Master':3,'Officer':4,'Royalty':5})\n",
    "df2.head()"
   ]
  },
  {
   "cell_type": "code",
   "execution_count": 44,
   "id": "6961688e",
   "metadata": {
    "execution": {
     "iopub.execute_input": "2022-12-16T02:59:58.423153Z",
     "iopub.status.busy": "2022-12-16T02:59:58.422168Z",
     "iopub.status.idle": "2022-12-16T02:59:58.431634Z",
     "shell.execute_reply": "2022-12-16T02:59:58.430780Z"
    },
    "papermill": {
     "duration": 0.038399,
     "end_time": "2022-12-16T02:59:58.433657",
     "exception": false,
     "start_time": "2022-12-16T02:59:58.395258",
     "status": "completed"
    },
    "tags": []
   },
   "outputs": [
    {
     "data": {
      "text/plain": [
       "Pclass       0\n",
       "Sex          0\n",
       "Age         86\n",
       "SibSp        0\n",
       "Parch        0\n",
       "Fare         1\n",
       "Embarked     0\n",
       "Title        1\n",
       "dtype: int64"
      ]
     },
     "execution_count": 44,
     "metadata": {},
     "output_type": "execute_result"
    }
   ],
   "source": [
    "df2.isnull().sum()"
   ]
  },
  {
   "cell_type": "code",
   "execution_count": 45,
   "id": "186d2c86",
   "metadata": {
    "execution": {
     "iopub.execute_input": "2022-12-16T02:59:58.486703Z",
     "iopub.status.busy": "2022-12-16T02:59:58.486004Z",
     "iopub.status.idle": "2022-12-16T02:59:58.493824Z",
     "shell.execute_reply": "2022-12-16T02:59:58.492737Z"
    },
    "papermill": {
     "duration": 0.037167,
     "end_time": "2022-12-16T02:59:58.496395",
     "exception": false,
     "start_time": "2022-12-16T02:59:58.459228",
     "status": "completed"
    },
    "tags": []
   },
   "outputs": [],
   "source": [
    "# median age of each sex\n",
    "median_age_men2=df2[df2['Sex']==1]['Age'].median()\n",
    "median_age_women2=df2[df2['Sex']==0]['Age'].median()"
   ]
  },
  {
   "cell_type": "code",
   "execution_count": 46,
   "id": "b390ad01",
   "metadata": {
    "execution": {
     "iopub.execute_input": "2022-12-16T02:59:58.549947Z",
     "iopub.status.busy": "2022-12-16T02:59:58.549220Z",
     "iopub.status.idle": "2022-12-16T02:59:58.556508Z",
     "shell.execute_reply": "2022-12-16T02:59:58.555701Z"
    },
    "papermill": {
     "duration": 0.036987,
     "end_time": "2022-12-16T02:59:58.558779",
     "exception": false,
     "start_time": "2022-12-16T02:59:58.521792",
     "status": "completed"
    },
    "tags": []
   },
   "outputs": [],
   "source": [
    "# filling null values with respective median age\n",
    "df2.loc[(df2.Age.isnull()) & (df2['Sex']==0),'Age']=median_age_women2\n",
    "df2.loc[(df2.Age.isnull()) & (df2['Sex']==1),'Age']=median_age_men2"
   ]
  },
  {
   "cell_type": "code",
   "execution_count": 47,
   "id": "bb2bdfc8",
   "metadata": {
    "execution": {
     "iopub.execute_input": "2022-12-16T02:59:58.611827Z",
     "iopub.status.busy": "2022-12-16T02:59:58.611391Z",
     "iopub.status.idle": "2022-12-16T02:59:58.616957Z",
     "shell.execute_reply": "2022-12-16T02:59:58.616133Z"
    },
    "papermill": {
     "duration": 0.035059,
     "end_time": "2022-12-16T02:59:58.619220",
     "exception": false,
     "start_time": "2022-12-16T02:59:58.584161",
     "status": "completed"
    },
    "tags": []
   },
   "outputs": [],
   "source": [
    "# filling null values with median fare\n",
    "df2['Fare']=df2['Fare'].fillna(df2['Fare'].median())"
   ]
  },
  {
   "cell_type": "code",
   "execution_count": 48,
   "id": "03f700ed",
   "metadata": {
    "execution": {
     "iopub.execute_input": "2022-12-16T02:59:58.672786Z",
     "iopub.status.busy": "2022-12-16T02:59:58.672047Z",
     "iopub.status.idle": "2022-12-16T02:59:58.680345Z",
     "shell.execute_reply": "2022-12-16T02:59:58.679501Z"
    },
    "papermill": {
     "duration": 0.037686,
     "end_time": "2022-12-16T02:59:58.682372",
     "exception": false,
     "start_time": "2022-12-16T02:59:58.644686",
     "status": "completed"
    },
    "tags": []
   },
   "outputs": [
    {
     "data": {
      "text/plain": [
       "Pclass      0\n",
       "Sex         0\n",
       "Age         0\n",
       "SibSp       0\n",
       "Parch       0\n",
       "Fare        0\n",
       "Embarked    0\n",
       "Title       1\n",
       "dtype: int64"
      ]
     },
     "execution_count": 48,
     "metadata": {},
     "output_type": "execute_result"
    }
   ],
   "source": [
    "df2.isnull().sum()"
   ]
  },
  {
   "cell_type": "code",
   "execution_count": 49,
   "id": "33d73261",
   "metadata": {
    "execution": {
     "iopub.execute_input": "2022-12-16T02:59:58.735534Z",
     "iopub.status.busy": "2022-12-16T02:59:58.734823Z",
     "iopub.status.idle": "2022-12-16T02:59:58.748798Z",
     "shell.execute_reply": "2022-12-16T02:59:58.747596Z"
    },
    "papermill": {
     "duration": 0.043531,
     "end_time": "2022-12-16T02:59:58.751403",
     "exception": false,
     "start_time": "2022-12-16T02:59:58.707872",
     "status": "completed"
    },
    "tags": []
   },
   "outputs": [
    {
     "data": {
      "text/html": [
       "<div>\n",
       "<style scoped>\n",
       "    .dataframe tbody tr th:only-of-type {\n",
       "        vertical-align: middle;\n",
       "    }\n",
       "\n",
       "    .dataframe tbody tr th {\n",
       "        vertical-align: top;\n",
       "    }\n",
       "\n",
       "    .dataframe thead th {\n",
       "        text-align: right;\n",
       "    }\n",
       "</style>\n",
       "<table border=\"1\" class=\"dataframe\">\n",
       "  <thead>\n",
       "    <tr style=\"text-align: right;\">\n",
       "      <th></th>\n",
       "      <th>Pclass</th>\n",
       "      <th>Sex</th>\n",
       "      <th>Age</th>\n",
       "      <th>SibSp</th>\n",
       "      <th>Parch</th>\n",
       "      <th>Fare</th>\n",
       "      <th>Embarked</th>\n",
       "      <th>Title</th>\n",
       "    </tr>\n",
       "  </thead>\n",
       "  <tbody>\n",
       "    <tr>\n",
       "      <th>414</th>\n",
       "      <td>1</td>\n",
       "      <td>0</td>\n",
       "      <td>39.0</td>\n",
       "      <td>0</td>\n",
       "      <td>0</td>\n",
       "      <td>108.9</td>\n",
       "      <td>1</td>\n",
       "      <td>NaN</td>\n",
       "    </tr>\n",
       "  </tbody>\n",
       "</table>\n",
       "</div>"
      ],
      "text/plain": [
       "     Pclass  Sex   Age  SibSp  Parch   Fare Embarked  Title\n",
       "414       1    0  39.0      0      0  108.9        1    NaN"
      ]
     },
     "execution_count": 49,
     "metadata": {},
     "output_type": "execute_result"
    }
   ],
   "source": [
    "# Null value in the title column\n",
    "df2[df2.Title.isnull()]"
   ]
  },
  {
   "cell_type": "markdown",
   "id": "b3b84b40",
   "metadata": {
    "papermill": {
     "duration": 0.026181,
     "end_time": "2022-12-16T02:59:58.804870",
     "exception": false,
     "start_time": "2022-12-16T02:59:58.778689",
     "status": "completed"
    },
    "tags": []
   },
   "source": [
    "##### Since the person is a woman with age 39, filling the title with 2 (mapped value for the title 'Mrs')"
   ]
  },
  {
   "cell_type": "code",
   "execution_count": 50,
   "id": "43998379",
   "metadata": {
    "execution": {
     "iopub.execute_input": "2022-12-16T02:59:58.858758Z",
     "iopub.status.busy": "2022-12-16T02:59:58.858363Z",
     "iopub.status.idle": "2022-12-16T02:59:58.864021Z",
     "shell.execute_reply": "2022-12-16T02:59:58.863197Z"
    },
    "papermill": {
     "duration": 0.035175,
     "end_time": "2022-12-16T02:59:58.866136",
     "exception": false,
     "start_time": "2022-12-16T02:59:58.830961",
     "status": "completed"
    },
    "tags": []
   },
   "outputs": [],
   "source": [
    "df2=df2.fillna(2)"
   ]
  },
  {
   "cell_type": "code",
   "execution_count": 51,
   "id": "e881201a",
   "metadata": {
    "execution": {
     "iopub.execute_input": "2022-12-16T02:59:58.920482Z",
     "iopub.status.busy": "2022-12-16T02:59:58.919486Z",
     "iopub.status.idle": "2022-12-16T02:59:58.927967Z",
     "shell.execute_reply": "2022-12-16T02:59:58.926888Z"
    },
    "papermill": {
     "duration": 0.037785,
     "end_time": "2022-12-16T02:59:58.930216",
     "exception": false,
     "start_time": "2022-12-16T02:59:58.892431",
     "status": "completed"
    },
    "tags": []
   },
   "outputs": [
    {
     "data": {
      "text/plain": [
       "Pclass      0\n",
       "Sex         0\n",
       "Age         0\n",
       "SibSp       0\n",
       "Parch       0\n",
       "Fare        0\n",
       "Embarked    0\n",
       "Title       0\n",
       "dtype: int64"
      ]
     },
     "execution_count": 51,
     "metadata": {},
     "output_type": "execute_result"
    }
   ],
   "source": [
    "# Data is cleaned to have no null value\n",
    "df2.isnull().sum()"
   ]
  },
  {
   "cell_type": "code",
   "execution_count": 52,
   "id": "248857af",
   "metadata": {
    "execution": {
     "iopub.execute_input": "2022-12-16T02:59:58.984618Z",
     "iopub.status.busy": "2022-12-16T02:59:58.984179Z",
     "iopub.status.idle": "2022-12-16T02:59:58.991573Z",
     "shell.execute_reply": "2022-12-16T02:59:58.990688Z"
    },
    "papermill": {
     "duration": 0.037481,
     "end_time": "2022-12-16T02:59:58.993792",
     "exception": false,
     "start_time": "2022-12-16T02:59:58.956311",
     "status": "completed"
    },
    "tags": []
   },
   "outputs": [],
   "source": [
    "# feature scaling\n",
    "df2.Age = (df2.Age-min(df2.Age))/(max(df2.Age)-min(df2.Age))\n",
    "df2.Fare = (df2.Fare-min(df2.Fare))/(max(df2.Fare)-min(df2.Fare))"
   ]
  },
  {
   "cell_type": "code",
   "execution_count": 53,
   "id": "34d6ab89",
   "metadata": {
    "execution": {
     "iopub.execute_input": "2022-12-16T02:59:59.048867Z",
     "iopub.status.busy": "2022-12-16T02:59:59.048169Z",
     "iopub.status.idle": "2022-12-16T02:59:59.061657Z",
     "shell.execute_reply": "2022-12-16T02:59:59.060479Z"
    },
    "papermill": {
     "duration": 0.043817,
     "end_time": "2022-12-16T02:59:59.064374",
     "exception": false,
     "start_time": "2022-12-16T02:59:59.020557",
     "status": "completed"
    },
    "tags": []
   },
   "outputs": [
    {
     "data": {
      "text/html": [
       "<div>\n",
       "<style scoped>\n",
       "    .dataframe tbody tr th:only-of-type {\n",
       "        vertical-align: middle;\n",
       "    }\n",
       "\n",
       "    .dataframe tbody tr th {\n",
       "        vertical-align: top;\n",
       "    }\n",
       "\n",
       "    .dataframe thead th {\n",
       "        text-align: right;\n",
       "    }\n",
       "</style>\n",
       "<table border=\"1\" class=\"dataframe\">\n",
       "  <thead>\n",
       "    <tr style=\"text-align: right;\">\n",
       "      <th></th>\n",
       "      <th>Pclass</th>\n",
       "      <th>Sex</th>\n",
       "      <th>Age</th>\n",
       "      <th>SibSp</th>\n",
       "      <th>Parch</th>\n",
       "      <th>Fare</th>\n",
       "      <th>Embarked</th>\n",
       "      <th>Title</th>\n",
       "    </tr>\n",
       "  </thead>\n",
       "  <tbody>\n",
       "    <tr>\n",
       "      <th>0</th>\n",
       "      <td>3</td>\n",
       "      <td>1</td>\n",
       "      <td>0.452723</td>\n",
       "      <td>0</td>\n",
       "      <td>0</td>\n",
       "      <td>0.015282</td>\n",
       "      <td>2</td>\n",
       "      <td>0.0</td>\n",
       "    </tr>\n",
       "    <tr>\n",
       "      <th>1</th>\n",
       "      <td>3</td>\n",
       "      <td>0</td>\n",
       "      <td>0.617566</td>\n",
       "      <td>1</td>\n",
       "      <td>0</td>\n",
       "      <td>0.013663</td>\n",
       "      <td>0</td>\n",
       "      <td>2.0</td>\n",
       "    </tr>\n",
       "    <tr>\n",
       "      <th>2</th>\n",
       "      <td>2</td>\n",
       "      <td>1</td>\n",
       "      <td>0.815377</td>\n",
       "      <td>0</td>\n",
       "      <td>0</td>\n",
       "      <td>0.018909</td>\n",
       "      <td>2</td>\n",
       "      <td>0.0</td>\n",
       "    </tr>\n",
       "    <tr>\n",
       "      <th>3</th>\n",
       "      <td>3</td>\n",
       "      <td>1</td>\n",
       "      <td>0.353818</td>\n",
       "      <td>0</td>\n",
       "      <td>0</td>\n",
       "      <td>0.016908</td>\n",
       "      <td>0</td>\n",
       "      <td>0.0</td>\n",
       "    </tr>\n",
       "    <tr>\n",
       "      <th>4</th>\n",
       "      <td>3</td>\n",
       "      <td>0</td>\n",
       "      <td>0.287881</td>\n",
       "      <td>1</td>\n",
       "      <td>1</td>\n",
       "      <td>0.023984</td>\n",
       "      <td>0</td>\n",
       "      <td>2.0</td>\n",
       "    </tr>\n",
       "  </tbody>\n",
       "</table>\n",
       "</div>"
      ],
      "text/plain": [
       "   Pclass  Sex       Age  SibSp  Parch      Fare  Embarked  Title\n",
       "0       3    1  0.452723      0      0  0.015282         2    0.0\n",
       "1       3    0  0.617566      1      0  0.013663         0    2.0\n",
       "2       2    1  0.815377      0      0  0.018909         2    0.0\n",
       "3       3    1  0.353818      0      0  0.016908         0    0.0\n",
       "4       3    0  0.287881      1      1  0.023984         0    2.0"
      ]
     },
     "execution_count": 53,
     "metadata": {},
     "output_type": "execute_result"
    }
   ],
   "source": [
    "# test dataset\n",
    "df2.head()"
   ]
  },
  {
   "cell_type": "markdown",
   "id": "559c5444",
   "metadata": {
    "papermill": {
     "duration": 0.027015,
     "end_time": "2022-12-16T02:59:59.118967",
     "exception": false,
     "start_time": "2022-12-16T02:59:59.091952",
     "status": "completed"
    },
    "tags": []
   },
   "source": [
    "# Prediction"
   ]
  },
  {
   "cell_type": "code",
   "execution_count": 54,
   "id": "95ce6403",
   "metadata": {
    "execution": {
     "iopub.execute_input": "2022-12-16T02:59:59.175223Z",
     "iopub.status.busy": "2022-12-16T02:59:59.174803Z",
     "iopub.status.idle": "2022-12-16T02:59:59.181674Z",
     "shell.execute_reply": "2022-12-16T02:59:59.180682Z"
    },
    "papermill": {
     "duration": 0.03757,
     "end_time": "2022-12-16T02:59:59.184073",
     "exception": false,
     "start_time": "2022-12-16T02:59:59.146503",
     "status": "completed"
    },
    "tags": []
   },
   "outputs": [],
   "source": [
    "pred = clf.predict(df2)\n"
   ]
  },
  {
   "cell_type": "code",
   "execution_count": 55,
   "id": "c4ffc4ec",
   "metadata": {
    "execution": {
     "iopub.execute_input": "2022-12-16T02:59:59.240803Z",
     "iopub.status.busy": "2022-12-16T02:59:59.239811Z",
     "iopub.status.idle": "2022-12-16T02:59:59.246910Z",
     "shell.execute_reply": "2022-12-16T02:59:59.246143Z"
    },
    "papermill": {
     "duration": 0.037433,
     "end_time": "2022-12-16T02:59:59.249145",
     "exception": false,
     "start_time": "2022-12-16T02:59:59.211712",
     "status": "completed"
    },
    "tags": []
   },
   "outputs": [
    {
     "data": {
      "text/plain": [
       "array([0, 1, 1, 0, 1, 0, 1, 0, 1, 0, 0, 1, 1, 0, 1, 1, 1, 0, 1, 1, 1, 1,\n",
       "       1, 1, 1, 0, 1, 0, 1, 0, 0, 0, 1, 1, 1, 0, 1, 1, 0, 0, 0, 1, 0, 1,\n",
       "       1, 0, 1, 0, 1, 1, 1, 1, 1, 1, 1, 0, 0, 0, 0, 1, 0, 0, 0, 1, 1, 1,\n",
       "       1, 1, 1, 1, 1, 0, 1, 1, 1, 1, 0, 1, 0, 1, 1, 1, 1, 0, 1, 0, 1, 1,\n",
       "       1, 1, 1, 0, 1, 0, 1, 0, 1, 0, 1, 0, 1, 0, 0, 0, 1, 0, 0, 0, 0, 0,\n",
       "       1, 1, 1, 1, 1, 0, 0, 1, 1, 1, 1, 0, 1, 0, 0, 1, 0, 1, 0, 0, 0, 1,\n",
       "       1, 0, 0, 0, 0, 0, 1, 0, 0, 1, 1, 0, 1, 0, 1, 0, 1, 1, 1, 0, 0, 1,\n",
       "       0, 0, 1, 1, 1, 1, 1, 1, 1, 0, 1, 1, 1, 0, 1, 1, 0, 0, 0, 0, 0, 1,\n",
       "       1, 1, 1, 1, 0, 1, 1, 0, 1, 0, 1, 0, 0, 0, 0, 1, 0, 1, 1, 0, 1, 1,\n",
       "       0, 1, 1, 1, 1, 1, 0, 1, 1, 0, 1, 0, 0, 0, 0, 1, 0, 1, 1, 1, 1, 0,\n",
       "       1, 0, 1, 0, 1, 1, 0, 1, 0, 0, 0, 1, 0, 0, 1, 0, 1, 0, 1, 1, 1, 1,\n",
       "       1, 0, 0, 1, 1, 0, 1, 1, 1, 0, 1, 0, 0, 0, 0, 0, 1, 0, 0, 0, 1, 1,\n",
       "       1, 0, 1, 0, 1, 0, 1, 0, 1, 1, 0, 1, 0, 0, 0, 0, 1, 0, 1, 1, 1, 0,\n",
       "       0, 1, 0, 0, 1, 1, 0, 1, 0, 0, 1, 0, 1, 0, 0, 1, 0, 0, 1, 1, 1, 1,\n",
       "       1, 1, 0, 0, 0, 1, 1, 1, 1, 0, 0, 0, 0, 0, 0, 1, 1, 0, 1, 1, 0, 0,\n",
       "       1, 1, 0, 1, 0, 1, 0, 0, 0, 1, 0, 0, 0, 1, 0, 1, 0, 1, 0, 1, 1, 0,\n",
       "       0, 0, 1, 1, 1, 0, 0, 1, 0, 1, 1, 0, 1, 1, 0, 1, 1, 1, 0, 1, 1, 0,\n",
       "       1, 1, 1, 0, 1, 0, 0, 0, 1, 1, 0, 1, 0, 0, 0, 0, 1, 1, 1, 0, 0, 1,\n",
       "       0, 1, 0, 0, 1, 0, 1, 1, 1, 1, 0, 1, 1, 1, 1, 1, 1, 0, 1, 0, 0, 1])"
      ]
     },
     "execution_count": 55,
     "metadata": {},
     "output_type": "execute_result"
    }
   ],
   "source": [
    "pred"
   ]
  },
  {
   "cell_type": "markdown",
   "id": "c58fa28f",
   "metadata": {
    "papermill": {
     "duration": 0.026683,
     "end_time": "2022-12-16T02:59:59.302596",
     "exception": false,
     "start_time": "2022-12-16T02:59:59.275913",
     "status": "completed"
    },
    "tags": []
   },
   "source": [
    "Converting our submsiion to csv file for the submission \n"
   ]
  },
  {
   "cell_type": "code",
   "execution_count": 56,
   "id": "835ea03c",
   "metadata": {
    "execution": {
     "iopub.execute_input": "2022-12-16T02:59:59.357584Z",
     "iopub.status.busy": "2022-12-16T02:59:59.356900Z",
     "iopub.status.idle": "2022-12-16T02:59:59.365087Z",
     "shell.execute_reply": "2022-12-16T02:59:59.364288Z"
    },
    "papermill": {
     "duration": 0.038475,
     "end_time": "2022-12-16T02:59:59.367374",
     "exception": false,
     "start_time": "2022-12-16T02:59:59.328899",
     "status": "completed"
    },
    "tags": []
   },
   "outputs": [],
   "source": [
    "submission = pd.DataFrame({\n",
    "        \"PassengerId\": test_data[\"PassengerId\"],\n",
    "        \"Survived\": pred\n",
    "    })\n",
    "submission.to_csv('submission.csv', index=False)"
   ]
  },
  {
   "cell_type": "code",
   "execution_count": 57,
   "id": "1ab4a1fe",
   "metadata": {
    "execution": {
     "iopub.execute_input": "2022-12-16T02:59:59.422102Z",
     "iopub.status.busy": "2022-12-16T02:59:59.421375Z",
     "iopub.status.idle": "2022-12-16T02:59:59.427495Z",
     "shell.execute_reply": "2022-12-16T02:59:59.426650Z"
    },
    "papermill": {
     "duration": 0.035715,
     "end_time": "2022-12-16T02:59:59.429823",
     "exception": false,
     "start_time": "2022-12-16T02:59:59.394108",
     "status": "completed"
    },
    "tags": []
   },
   "outputs": [],
   "source": [
    "pred_df = pd.read_csv('submission.csv')"
   ]
  },
  {
   "cell_type": "code",
   "execution_count": 58,
   "id": "243de1ec",
   "metadata": {
    "execution": {
     "iopub.execute_input": "2022-12-16T02:59:59.484264Z",
     "iopub.status.busy": "2022-12-16T02:59:59.483514Z",
     "iopub.status.idle": "2022-12-16T02:59:59.732868Z",
     "shell.execute_reply": "2022-12-16T02:59:59.731657Z"
    },
    "papermill": {
     "duration": 0.279643,
     "end_time": "2022-12-16T02:59:59.735469",
     "exception": false,
     "start_time": "2022-12-16T02:59:59.455826",
     "status": "completed"
    },
    "tags": []
   },
   "outputs": [
    {
     "data": {
      "text/plain": [
       "<AxesSubplot:xlabel='Survived', ylabel='count'>"
      ]
     },
     "execution_count": 58,
     "metadata": {},
     "output_type": "execute_result"
    },
    {
     "data": {
      "image/png": "[encoded data removed]",
      "text/plain": [
       "<Figure size 640x480 with 1 Axes>"
      ]
     },
     "metadata": {},
     "output_type": "display_data"
    }
   ],
   "source": [
    "# visualizing predicted values\n",
    "sns.countplot(x='Survived', data=pred_df)"
   ]
  },
  {
   "cell_type": "markdown",
   "id": "e2c0a7dd",
   "metadata": {
    "papermill": {
     "duration": 0.026643,
     "end_time": "2022-12-16T02:59:59.788775",
     "exception": false,
     "start_time": "2022-12-16T02:59:59.762132",
     "status": "completed"
    },
    "tags": []
   },
   "source": [
    "Thankyou for reading this notebook ... ❤️"
   ]
  },
  {
   "cell_type": "code",
   "execution_count": null,
   "id": "fdd0d1bd",
   "metadata": {
    "papermill": {
     "duration": 0.026797,
     "end_time": "2022-12-16T02:59:59.842285",
     "exception": false,
     "start_time": "2022-12-16T02:59:59.815488",
     "status": "completed"
    },
    "tags": []
   },
   "outputs": [],
   "source": []
  }
 ],
 "metadata": {
  "kernelspec": {
   "display_name": "Python 3",
   "language": "python",
   "name": "python3"
  },
  "language_info": {
   "codemirror_mode": {
    "name": "ipython",
    "version": 3
   },
   "file_extension": ".py",
   "mimetype": "text/x-python",
   "name": "python",
   "nbconvert_exporter": "python",
   "pygments_lexer": "ipython3",
   "version": "3.7.12"
  },
  "papermill": {
   "default_parameters": {},
   "duration": 19.518988,
   "end_time": "2022-12-16T03:00:00.692052",
   "environment_variables": {},
   "exception": null,
   "input_path": "__notebook__.ipynb",
   "output_path": "__notebook__.ipynb",
   "parameters": {},
   "start_time": "2022-12-16T02:59:41.173064",
   "version": "2.3.4"
  }
 },
 "nbformat": 4,
 "nbformat_minor": 5
}
